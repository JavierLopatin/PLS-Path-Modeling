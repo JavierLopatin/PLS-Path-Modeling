{
 "cells": [
  {
   "cell_type": "markdown",
   "metadata": {},
   "source": [
    "## PLS Path modeling to predict species richness using LiDAR data\n",
    "### This is a tutorial about PLS Path Modeling applied to Geocience. The sample data is part of the analysis of [**THIS**](http://ieeexplore.ieee.org/stamp/stamp.jsp?arnumber=6990570) paper.  \n",
    "### See more information on PLS-PM [here](http://gastonsanchez.com/PLS_Path_Modeling_with_R.pdf)\n",
    "#### author: Javier Lopatin \n",
    "#### mail: javier.lopatin@kit.edu & javierlopatin@gmail.com\n",
    "#### last changes: 28/0/2016\n"
   ]
  },
  {
   "cell_type": "code",
   "execution_count": 50,
   "metadata": {
    "collapsed": false
   },
   "outputs": [],
   "source": [
    "library(plspm)\n",
    "\n",
    "## set working directory\n",
    "setwd(\"C:/Users/Lopatin/Dropbox/Publicaciones/OBIA-PLSPM\")\n",
    " \n",
    "## Load data\n",
    "datapls <- read.table(\"datapls.txt\", header=T, sep=\"\", dec=\".\") "
   ]
  },
  {
   "cell_type": "code",
   "execution_count": 29,
   "metadata": {
    "collapsed": true
   },
   "outputs": [],
   "source": [
    "## Set the inner model\n",
    "# rows of the inner model matrix\n",
    "Hieght.Canopies  = c(0, 0, 0, 0, 0, 0, 0)\n",
    "Midle1.Canopies  = c(0, 0, 0, 0, 0, 0, 0)\n",
    "Midle2.Canopies  = c(0, 0, 0, 0, 0, 0, 0)\n",
    "Low.Canopies     = c(0, 0, 0, 0, 0, 0, 0)\n",
    "OBIA             = c(1, 1, 1, 1, 0, 0, 0)\n",
    "Topography       = c(0, 0, 0, 0, 0, 0, 0)\n",
    "Richness         = c(0, 0, 0, 0, 1, 1, 0)"
   ]
  },
  {
   "cell_type": "code",
   "execution_count": 30,
   "metadata": {
    "collapsed": true
   },
   "outputs": [],
   "source": [
    "# matrix created by row binding. Creación de las variables latentes(Agrupaciones ficticias de las variables respuesta y predictoras)\n",
    "Q_inner = rbind(Hieght.Canopies, Midle1.Canopies,Midle2.Canopies, Low.Canopies, OBIA, Topography, Richness)"
   ]
  },
  {
   "cell_type": "code",
   "execution_count": 31,
   "metadata": {
    "collapsed": false
   },
   "outputs": [
    {
     "data": {
      "image/png": "[encoded data removed]",
      "text/plain": [
       "Plot with title \"\""
      ]
     },
     "metadata": {
      "image/svg+xml": {
       "isolated": true
      }
     },
     "output_type": "display_data"
    }
   ],
   "source": [
    "# add column names (optional)\n",
    "colnames(Q_inner) = rownames(Q_inner)\n",
    "\n",
    "# plot the inner matrix\n",
    "innerplot(Q_inner)"
   ]
  },
  {
   "cell_type": "code",
   "execution_count": 20,
   "metadata": {
    "collapsed": true
   },
   "outputs": [],
   "source": [
    "### Set the outer model\n",
    "# set the \"Modes\" of the relations: character vector indicating the type of measurement for each block.\n",
    "Q_modes = rep(\"A\",7)"
   ]
  },
  {
   "cell_type": "code",
   "execution_count": 120,
   "metadata": {
    "collapsed": true
   },
   "outputs": [],
   "source": [
    "# define list of indicators: what variables are associated with what latent variable: \n",
    "# in the same orther than Q_inner: Hieght.Canopies, Midle1.Canopies, Midle2.Canopies, Low.Canopies, OBIA, Topography, Richness\n",
    "Q_outer = list(80:83, 123:126, 166:168, 209:212, 25:40, 252:254, c(6,7,8)) "
   ]
  },
  {
   "cell_type": "code",
   "execution_count": null,
   "metadata": {
    "collapsed": false
   },
   "outputs": [],
   "source": [
    "### Run first try!\n",
    "Q_pls = plspm(datapls, Q_inner, Q_outer, Q_modes, maxiter= 1000, boot.val = F, br = 1000, scheme = \"factor\", scaled = T)\n",
    "# keep the bootstrap validation \"boot.val\"=F in this first step to make it faster"
   ]
  },
  {
   "cell_type": "code",
   "execution_count": 94,
   "metadata": {
    "collapsed": false
   },
   "outputs": [
    {
     "data": {
      "text/html": [
       "<table>\n",
       "<thead><tr><th></th><th scope=col>Mode</th><th scope=col>MVs</th><th scope=col>C.alpha</th><th scope=col>DG.rho</th><th scope=col>eig.1st</th><th scope=col>eig.2nd</th></tr></thead>\n",
       "<tbody>\n",
       "\t<tr><th scope=row>Hieght.Canopies</th><td>A                </td><td>4                </td><td>0.846691847864926</td><td>0.898541284976128</td><td>2.76660593039423 </td><td>0.848970661259768</td></tr>\n",
       "\t<tr><th scope=row>Midle1.Canopies</th><td>A                </td><td>3                </td><td>0.832649280723446</td><td>0.902890955686392</td><td>2.27622104645669 </td><td>0.703391587881361</td></tr>\n",
       "\t<tr><th scope=row>Midle2.Canopies</th><td>A                </td><td>3                </td><td>0                </td><td>0.282623863915595</td><td>1.7994571554243  </td><td>1.16646325558366 </td></tr>\n",
       "\t<tr><th scope=row>Low.Canopies</th><td>A                </td><td>4                </td><td>0.583217363882368</td><td>0.549549877784367</td><td>1.9039716970801  </td><td>1.80619452395328 </td></tr>\n",
       "\t<tr><th scope=row>OBIA</th><td>A                </td><td>16               </td><td>0                </td><td>0.134346140387168</td><td>6.78169811420588 </td><td>3.03926457205021 </td></tr>\n",
       "\t<tr><th scope=row>Topography</th><td>A                </td><td>3                </td><td>0                </td><td>0.135732552235257</td><td>1.31878839969304 </td><td>0.917497083954768</td></tr>\n",
       "\t<tr><th scope=row>Richness</th><td>A                </td><td>3                </td><td>0.823262974611027</td><td>0.894912864943492</td><td>2.21931450180523 </td><td>0.495174584199028</td></tr>\n",
       "</tbody>\n",
       "</table>\n"
      ],
      "text/latex": [
       "\\begin{tabular}{r|llllll}\n",
       "  & Mode & MVs & C.alpha & DG.rho & eig.1st & eig.2nd\\\\\n",
       "\\hline\n",
       "\tHieght.Canopies & A                 & 4                 & 0.846691847864926 & 0.898541284976128 & 2.76660593039423  & 0.848970661259768\\\\\n",
       "\tMidle1.Canopies & A                 & 3                 & 0.832649280723446 & 0.902890955686392 & 2.27622104645669  & 0.703391587881361\\\\\n",
       "\tMidle2.Canopies & A                 & 3                 & 0                 & 0.282623863915595 & 1.7994571554243   & 1.16646325558366 \\\\\n",
       "\tLow.Canopies & A                 & 4                 & 0.583217363882368 & 0.549549877784367 & 1.9039716970801   & 1.80619452395328 \\\\\n",
       "\tOBIA & A                 & 16                & 0                 & 0.134346140387168 & 6.78169811420588  & 3.03926457205021 \\\\\n",
       "\tTopography & A                 & 3                 & 0                 & 0.135732552235257 & 1.31878839969304  & 0.917497083954768\\\\\n",
       "\tRichness & A                 & 3                 & 0.823262974611027 & 0.894912864943492 & 2.21931450180523  & 0.495174584199028\\\\\n",
       "\\end{tabular}\n"
      ],
      "text/plain": [
       "                Mode MVs   C.alpha    DG.rho  eig.1st   eig.2nd\n",
       "Hieght.Canopies    A   4 0.8466918 0.8985413 2.766606 0.8489707\n",
       "Midle1.Canopies    A   3 0.8326493 0.9028910 2.276221 0.7033916\n",
       "Midle2.Canopies    A   3 0.0000000 0.2826239 1.799457 1.1664633\n",
       "Low.Canopies       A   4 0.5832174 0.5495499 1.903972 1.8061945\n",
       "OBIA               A  16 0.0000000 0.1343461 6.781698 3.0392646\n",
       "Topography         A   3 0.0000000 0.1357326 1.318788 0.9174971\n",
       "Richness           A   3 0.8232630 0.8949129 2.219315 0.4951746"
      ]
     },
     "metadata": {},
     "output_type": "display_data"
    }
   ],
   "source": [
    "# Check quality of  the outer model: in the differents indices values should be over 0.7\n",
    "# this is a measure of how well construct are the blocks of predictors.\n",
    "Q_pls$unidim"
   ]
  },
  {
   "cell_type": "code",
   "execution_count": 95,
   "metadata": {
    "collapsed": false
   },
   "outputs": [
    {
     "data": {
      "text/html": [
       "<table>\n",
       "<thead><tr><th></th><th scope=col>name</th><th scope=col>block</th><th scope=col>weight</th><th scope=col>loading</th><th scope=col>communality</th><th scope=col>redundancy</th></tr></thead>\n",
       "<tbody>\n",
       "\t<tr><th scope=row>1</th><td>Copas_A          </td><td>Hieght.Canopies  </td><td>0.35856854885461 </td><td>0.887519839594922</td><td>0.787691465674596</td><td>0                </td></tr>\n",
       "\t<tr><th scope=row>2</th><td>Cobertura_       </td><td>Hieght.Canopies  </td><td>0.345898960229866</td><td>0.94614604741216 </td><td>0.895192343033654</td><td>0                </td></tr>\n",
       "\t<tr><th scope=row>3</th><td>Promedio_A       </td><td>Hieght.Canopies  </td><td>0.270903422885627</td><td>0.672115038550411</td><td>0.451738625045621</td><td>0                </td></tr>\n",
       "\t<tr><th scope=row>4</th><td>STD_A            </td><td>Hieght.Canopies  </td><td>0.218305257714878</td><td>0.789784461903717</td><td>0.623759496264543</td><td>0                </td></tr>\n",
       "\t<tr><th scope=row>5</th><td>Copas_B          </td><td>Midle1.Canopies  </td><td>0.404997431054494</td><td>0.88395131534034 </td><td>0.781369927891918</td><td>0                </td></tr>\n",
       "\t<tr><th scope=row>6</th><td>Cobertura_B      </td><td>Midle1.Canopies  </td><td>0.438210882193238</td><td>0.993479294561978</td><td>0.987001108723365</td><td>0                </td></tr>\n",
       "\t<tr><th scope=row>7</th><td>Promedio_B       </td><td>Midle1.Canopies  </td><td>0.290485615251922</td><td>0.711389959258348</td><td>0.506075674133594</td><td>0                </td></tr>\n",
       "\t<tr><th scope=row>8</th><td>Copas_C          </td><td>Midle2.Canopies  </td><td>0.270958947201145</td><td>0.47408348163835 </td><td>0.22475514756234 </td><td>0                </td></tr>\n",
       "\t<tr><th scope=row>9</th><td>Cobertura_C      </td><td>Midle2.Canopies  </td><td>0.801763112396802</td><td>0.994483529540894</td><td>0.988997490528114</td><td>0                </td></tr>\n",
       "\t<tr><th scope=row>10</th><td>Promedio_C        </td><td>Midle2.Canopies   </td><td>0.299211312373236 </td><td>0.247994063022574 </td><td>0.0615010552944445</td><td>0                 </td></tr>\n",
       "\t<tr><th scope=row>11</th><td>Copas_D           </td><td>Low.Canopies      </td><td>0.494974793440597 </td><td>-0.899995291539908</td><td>0.809991524794004 </td><td>0                 </td></tr>\n",
       "\t<tr><th scope=row>12</th><td>Cobertura_D       </td><td>Low.Canopies      </td><td>0.316671472295785 </td><td>-0.633299211530968</td><td>0.401067891325746 </td><td>0                 </td></tr>\n",
       "\t<tr><th scope=row>13</th><td>Promedio_D        </td><td>Low.Canopies      </td><td>-0.308728520402696</td><td>0.494577822579864 </td><td>0.24460722258784  </td><td>0                 </td></tr>\n",
       "\t<tr><th scope=row>14</th><td>STD_D             </td><td>Low.Canopies      </td><td>-0.309271229265038</td><td>0.650842769443926 </td><td>0.423596310537439 </td><td>0                 </td></tr>\n",
       "\t<tr><th scope=row>15</th><td>Copas_total       </td><td>OBIA              </td><td>0.0863176644997283</td><td>0.664623343022256 </td><td>0.44172418809008  </td><td>0.376227117644485 </td></tr>\n",
       "\t<tr><th scope=row>16</th><td>Copas_altas      </td><td>OBIA             </td><td>0.09698718892714 </td><td>0.644419737978339</td><td>0.415276798696071</td><td>0.35370123984741 </td></tr>\n",
       "\t<tr><th scope=row>17</th><td>Copas_medianas   </td><td>OBIA             </td><td>0.122581200028031</td><td>0.751267044129976</td><td>0.564402171595791</td><td>0.480714907485369</td></tr>\n",
       "\t<tr><th scope=row>18</th><td>Copas_bajas       </td><td>OBIA              </td><td>-0.119995171869195</td><td>-0.638208075216374</td><td>0.407309547271389 </td><td>0.346915340139229 </td></tr>\n",
       "\t<tr><th scope=row>19</th><td>Cobertura_total    </td><td>OBIA               </td><td>-0.0131657669756342</td><td>-0.054653848646225 </td><td>0.00298704317184447</td><td>0.00254413652936187</td></tr>\n",
       "\t<tr><th scope=row>20</th><td>Cobertura_altas   </td><td>OBIA              </td><td>0.0889292849401984</td><td>0.596910325699595 </td><td>0.356301936926796 </td><td>0.303470931308337 </td></tr>\n",
       "\t<tr><th scope=row>21</th><td>Cobertua_medianas</td><td>OBIA             </td><td>0.125814729420881</td><td>0.764992398968243</td><td>0.585213370479187</td><td>0.49844030623358 </td></tr>\n",
       "\t<tr><th scope=row>22</th><td>Cobertura_bajas   </td><td>OBIA              </td><td>-0.150301978583175</td><td>-0.944939696940639</td><td>0.892911030854267 </td><td>0.760513805919906 </td></tr>\n",
       "\t<tr><th scope=row>23</th><td>Promedio_altas    </td><td>OBIA              </td><td>0.0800682487984746</td><td>0.525795325211123 </td><td>0.276460724013871 </td><td>0.235468249514186 </td></tr>\n",
       "\t<tr><th scope=row>24</th><td>Promedio_bajas     </td><td>OBIA               </td><td>-0.0913180299276499</td><td>-0.727023045119911 </td><td>0.528562508135427  </td><td>0.450189403914143  </td></tr>\n",
       "\t<tr><th scope=row>25</th><td>Promedio_medianas </td><td>OBIA              </td><td>0.0803774673359316</td><td>0.522294767578688 </td><td>0.272791824240075 </td><td>0.23234335931338  </td></tr>\n",
       "\t<tr><th scope=row>26</th><td>Promedio_total     </td><td>OBIA               </td><td>-0.0880800169956293</td><td>-0.668607588568929 </td><td>0.447036107491959  </td><td>0.380751407188985  </td></tr>\n",
       "\t<tr><th scope=row>27</th><td>STD_altas        </td><td>OBIA             </td><td>0.085509619662947</td><td>0.585501029239287</td><td>0.342811455240264</td><td>0.29198076351267 </td></tr>\n",
       "\t<tr><th scope=row>28</th><td>STD_bajas          </td><td>OBIA               </td><td>-0.0853530675068772</td><td>-0.6949127835221   </td><td>0.482903776702433  </td><td>0.411300763931321  </td></tr>\n",
       "\t<tr><th scope=row>29</th><td>STD_medianas      </td><td>OBIA              </td><td>0.0946053283582827</td><td>0.58648254767977  </td><td>0.343961778732954 </td><td>0.29296052170496  </td></tr>\n",
       "\t<tr><th scope=row>30</th><td>STD_total          </td><td>OBIA               </td><td>-0.0740587591672799</td><td>-0.609744395066354 </td><td>0.371788227314834  </td><td>0.31666097738865   </td></tr>\n",
       "\t<tr><th scope=row>31</th><td>D_Elev_CURT_mean_CUBE</td><td>Topography           </td><td>-0.00310653422277474 </td><td>0.140659883360907    </td><td>0.0197852027871039   </td><td>0                    </td></tr>\n",
       "\t<tr><th scope=row>32</th><td>DTM_1_mean       </td><td>Topography       </td><td>0.742779839742295</td><td>0.864597803566728</td><td>0.74752936193241 </td><td>0                </td></tr>\n",
       "\t<tr><th scope=row>33</th><td>slope_1m_std      </td><td>Topography        </td><td>-0.517380027867904</td><td>-0.69239461801966 </td><td>0.479410307062591 </td><td>0                 </td></tr>\n",
       "\t<tr><th scope=row>34</th><td>A_RICH           </td><td>Richness         </td><td>0.360473747384202</td><td>0.820645863738968</td><td>0.673459633671877</td><td>0.475106420059154</td></tr>\n",
       "\t<tr><th scope=row>35</th><td>AR_RICH          </td><td>Richness         </td><td>0.389306082369274</td><td>0.899932533266213</td><td>0.809878564430943</td><td>0.571346055785882</td></tr>\n",
       "\t<tr><th scope=row>36</th><td>H_RICH           </td><td>Richness         </td><td>0.412764595728446</td><td>0.857218630090367</td><td>0.734823779774005</td><td>0.518397061868836</td></tr>\n",
       "</tbody>\n",
       "</table>\n"
      ],
      "text/latex": [
       "\\begin{tabular}{r|llllll}\n",
       "  & name & block & weight & loading & communality & redundancy\\\\\n",
       "\\hline\n",
       "\t1 & Copas\\_A         & Hieght.Canopies   & 0.35856854885461  & 0.887519839594922 & 0.787691465674596 & 0                \\\\\n",
       "\t2 & Cobertura\\_      & Hieght.Canopies   & 0.345898960229866 & 0.94614604741216  & 0.895192343033654 & 0                \\\\\n",
       "\t3 & Promedio\\_A      & Hieght.Canopies   & 0.270903422885627 & 0.672115038550411 & 0.451738625045621 & 0                \\\\\n",
       "\t4 & STD\\_A           & Hieght.Canopies   & 0.218305257714878 & 0.789784461903717 & 0.623759496264543 & 0                \\\\\n",
       "\t5 & Copas\\_B         & Midle1.Canopies   & 0.404997431054494 & 0.88395131534034  & 0.781369927891918 & 0                \\\\\n",
       "\t6 & Cobertura\\_B     & Midle1.Canopies   & 0.438210882193238 & 0.993479294561978 & 0.987001108723365 & 0                \\\\\n",
       "\t7 & Promedio\\_B      & Midle1.Canopies   & 0.290485615251922 & 0.711389959258348 & 0.506075674133594 & 0                \\\\\n",
       "\t8 & Copas\\_C         & Midle2.Canopies   & 0.270958947201145 & 0.47408348163835  & 0.22475514756234  & 0                \\\\\n",
       "\t9 & Cobertura\\_C     & Midle2.Canopies   & 0.801763112396802 & 0.994483529540894 & 0.988997490528114 & 0                \\\\\n",
       "\t10 & Promedio\\_C       & Midle2.Canopies    & 0.299211312373236  & 0.247994063022574  & 0.0615010552944445 & 0                 \\\\\n",
       "\t11 & Copas\\_D          & Low.Canopies       & 0.494974793440597  & -0.899995291539908 & 0.809991524794004  & 0                 \\\\\n",
       "\t12 & Cobertura\\_D      & Low.Canopies       & 0.316671472295785  & -0.633299211530968 & 0.401067891325746  & 0                 \\\\\n",
       "\t13 & Promedio\\_D       & Low.Canopies       & -0.308728520402696 & 0.494577822579864  & 0.24460722258784   & 0                 \\\\\n",
       "\t14 & STD\\_D            & Low.Canopies       & -0.309271229265038 & 0.650842769443926  & 0.423596310537439  & 0                 \\\\\n",
       "\t15 & Copas\\_total      & OBIA               & 0.0863176644997283 & 0.664623343022256  & 0.44172418809008   & 0.376227117644485 \\\\\n",
       "\t16 & Copas\\_altas     & OBIA              & 0.09698718892714  & 0.644419737978339 & 0.415276798696071 & 0.35370123984741 \\\\\n",
       "\t17 & Copas\\_medianas  & OBIA              & 0.122581200028031 & 0.751267044129976 & 0.564402171595791 & 0.480714907485369\\\\\n",
       "\t18 & Copas\\_bajas      & OBIA               & -0.119995171869195 & -0.638208075216374 & 0.407309547271389  & 0.346915340139229 \\\\\n",
       "\t19 & Cobertura\\_total   & OBIA                & -0.0131657669756342 & -0.054653848646225  & 0.00298704317184447 & 0.00254413652936187\\\\\n",
       "\t20 & Cobertura\\_altas  & OBIA               & 0.0889292849401984 & 0.596910325699595  & 0.356301936926796  & 0.303470931308337 \\\\\n",
       "\t21 & Cobertua\\_medianas & OBIA                & 0.125814729420881   & 0.764992398968243   & 0.585213370479187   & 0.49844030623358   \\\\\n",
       "\t22 & Cobertura\\_bajas  & OBIA               & -0.150301978583175 & -0.944939696940639 & 0.892911030854267  & 0.760513805919906 \\\\\n",
       "\t23 & Promedio\\_altas   & OBIA               & 0.0800682487984746 & 0.525795325211123  & 0.276460724013871  & 0.235468249514186 \\\\\n",
       "\t24 & Promedio\\_bajas    & OBIA                & -0.0913180299276499 & -0.727023045119911  & 0.528562508135427   & 0.450189403914143  \\\\\n",
       "\t25 & Promedio\\_medianas & OBIA                & 0.0803774673359316  & 0.522294767578688   & 0.272791824240075   & 0.23234335931338   \\\\\n",
       "\t26 & Promedio\\_total    & OBIA                & -0.0880800169956293 & -0.668607588568929  & 0.447036107491959   & 0.380751407188985  \\\\\n",
       "\t27 & STD\\_altas       & OBIA              & 0.085509619662947 & 0.585501029239287 & 0.342811455240264 & 0.29198076351267 \\\\\n",
       "\t28 & STD\\_bajas         & OBIA                & -0.0853530675068772 & -0.6949127835221    & 0.482903776702433   & 0.411300763931321  \\\\\n",
       "\t29 & STD\\_medianas     & OBIA               & 0.0946053283582827 & 0.58648254767977   & 0.343961778732954  & 0.29296052170496  \\\\\n",
       "\t30 & STD\\_total         & OBIA                & -0.0740587591672799 & -0.609744395066354  & 0.371788227314834   & 0.31666097738865   \\\\\n",
       "\t31 & D\\_Elev\\_CURT\\_mean\\_CUBE & Topography                    & -0.00310653422277474          & 0.140659883360907             & 0.0197852027871039            & 0                            \\\\\n",
       "\t32 & DTM\\_1\\_mean    & Topography        & 0.742779839742295 & 0.864597803566728 & 0.74752936193241  & 0                \\\\\n",
       "\t33 & slope\\_1m\\_std   & Topography         & -0.517380027867904 & -0.69239461801966  & 0.479410307062591  & 0                 \\\\\n",
       "\t34 & A\\_RICH          & Richness          & 0.360473747384202 & 0.820645863738968 & 0.673459633671877 & 0.475106420059154\\\\\n",
       "\t35 & AR\\_RICH         & Richness          & 0.389306082369274 & 0.899932533266213 & 0.809878564430943 & 0.571346055785882\\\\\n",
       "\t36 & H\\_RICH          & Richness          & 0.412764595728446 & 0.857218630090367 & 0.734823779774005 & 0.518397061868836\\\\\n",
       "\\end{tabular}\n"
      ],
      "text/plain": [
       "                    name           block       weight     loading communality\n",
       "1                Copas_A Hieght.Canopies  0.358568549  0.88751984 0.787691466\n",
       "2             Cobertura_ Hieght.Canopies  0.345898960  0.94614605 0.895192343\n",
       "3             Promedio_A Hieght.Canopies  0.270903423  0.67211504 0.451738625\n",
       "4                  STD_A Hieght.Canopies  0.218305258  0.78978446 0.623759496\n",
       "5                Copas_B Midle1.Canopies  0.404997431  0.88395132 0.781369928\n",
       "6            Cobertura_B Midle1.Canopies  0.438210882  0.99347929 0.987001109\n",
       "7             Promedio_B Midle1.Canopies  0.290485615  0.71138996 0.506075674\n",
       "8                Copas_C Midle2.Canopies  0.270958947  0.47408348 0.224755148\n",
       "9            Cobertura_C Midle2.Canopies  0.801763112  0.99448353 0.988997491\n",
       "10            Promedio_C Midle2.Canopies  0.299211312  0.24799406 0.061501055\n",
       "11               Copas_D    Low.Canopies  0.494974793 -0.89999529 0.809991525\n",
       "12           Cobertura_D    Low.Canopies  0.316671472 -0.63329921 0.401067891\n",
       "13            Promedio_D    Low.Canopies -0.308728520  0.49457782 0.244607223\n",
       "14                 STD_D    Low.Canopies -0.309271229  0.65084277 0.423596311\n",
       "15           Copas_total            OBIA  0.086317664  0.66462334 0.441724188\n",
       "16           Copas_altas            OBIA  0.096987189  0.64441974 0.415276799\n",
       "17        Copas_medianas            OBIA  0.122581200  0.75126704 0.564402172\n",
       "18           Copas_bajas            OBIA -0.119995172 -0.63820808 0.407309547\n",
       "19       Cobertura_total            OBIA -0.013165767 -0.05465385 0.002987043\n",
       "20       Cobertura_altas            OBIA  0.088929285  0.59691033 0.356301937\n",
       "21     Cobertua_medianas            OBIA  0.125814729  0.76499240 0.585213370\n",
       "22       Cobertura_bajas            OBIA -0.150301979 -0.94493970 0.892911031\n",
       "23        Promedio_altas            OBIA  0.080068249  0.52579533 0.276460724\n",
       "24        Promedio_bajas            OBIA -0.091318030 -0.72702305 0.528562508\n",
       "25     Promedio_medianas            OBIA  0.080377467  0.52229477 0.272791824\n",
       "26        Promedio_total            OBIA -0.088080017 -0.66860759 0.447036107\n",
       "27             STD_altas            OBIA  0.085509620  0.58550103 0.342811455\n",
       "28             STD_bajas            OBIA -0.085353068 -0.69491278 0.482903777\n",
       "29          STD_medianas            OBIA  0.094605328  0.58648255 0.343961779\n",
       "30             STD_total            OBIA -0.074058759 -0.60974440 0.371788227\n",
       "31 D_Elev_CURT_mean_CUBE      Topography -0.003106534  0.14065988 0.019785203\n",
       "32            DTM_1_mean      Topography  0.742779840  0.86459780 0.747529362\n",
       "33          slope_1m_std      Topography -0.517380028 -0.69239462 0.479410307\n",
       "34                A_RICH        Richness  0.360473747  0.82064586 0.673459634\n",
       "35               AR_RICH        Richness  0.389306082  0.89993253 0.809878564\n",
       "36                H_RICH        Richness  0.412764596  0.85721863 0.734823780\n",
       "    redundancy\n",
       "1  0.000000000\n",
       "2  0.000000000\n",
       "3  0.000000000\n",
       "4  0.000000000\n",
       "5  0.000000000\n",
       "6  0.000000000\n",
       "7  0.000000000\n",
       "8  0.000000000\n",
       "9  0.000000000\n",
       "10 0.000000000\n",
       "11 0.000000000\n",
       "12 0.000000000\n",
       "13 0.000000000\n",
       "14 0.000000000\n",
       "15 0.376227118\n",
       "16 0.353701240\n",
       "17 0.480714907\n",
       "18 0.346915340\n",
       "19 0.002544137\n",
       "20 0.303470931\n",
       "21 0.498440306\n",
       "22 0.760513806\n",
       "23 0.235468250\n",
       "24 0.450189404\n",
       "25 0.232343359\n",
       "26 0.380751407\n",
       "27 0.291980764\n",
       "28 0.411300764\n",
       "29 0.292960522\n",
       "30 0.316660977\n",
       "31 0.000000000\n",
       "32 0.000000000\n",
       "33 0.000000000\n",
       "34 0.475106420\n",
       "35 0.571346056\n",
       "36 0.518397062"
      ]
     },
     "metadata": {},
     "output_type": "display_data"
    }
   ],
   "source": [
    "# check outer model. Loadings must be greater than 0.7, and communalites grater than 0.5:\n",
    "Q_pls$outer"
   ]
  },
  {
   "cell_type": "code",
   "execution_count": 96,
   "metadata": {
    "collapsed": false
   },
   "outputs": [
    {
     "data": {
      "image/png": "[encoded data removed]"
     },
     "metadata": {
      "image/svg+xml": {
       "isolated": true
      }
     },
     "output_type": "display_data"
    }
   ],
   "source": [
    "# plotting the loadings \n",
    "plot(Q_pls, what = \"loadings\")"
   ]
  },
  {
   "cell_type": "code",
   "execution_count": 97,
   "metadata": {
    "collapsed": false
   },
   "outputs": [
    {
     "data": {
      "text/html": [
       "<table>\n",
       "<thead><tr><th></th><th scope=col>name</th><th scope=col>block</th><th scope=col>Hieght.Canopies</th><th scope=col>Midle1.Canopies</th><th scope=col>Midle2.Canopies</th><th scope=col>Low.Canopies</th><th scope=col>OBIA</th><th scope=col>Topography</th><th scope=col>Richness</th></tr></thead>\n",
       "<tbody>\n",
       "\t<tr><th scope=row>1</th><td>Copas_A            </td><td>Hieght.Canopies    </td><td>0.887519839594922  </td><td>0.408320449896677  </td><td>-0.0409628240716801</td><td>-0.001321448147798 </td><td>0.494507103206552  </td><td>0.360346091919818  </td><td>-0.347890513463862 </td></tr>\n",
       "\t<tr><th scope=row>2</th><td>Cobertura_         </td><td>Hieght.Canopies    </td><td>0.94614604741216   </td><td>0.423037715082624  </td><td>-0.101613998438346 </td><td>-0.0378794248622538</td><td>0.477033100750562  </td><td>0.342332956501919  </td><td>-0.330279634319887 </td></tr>\n",
       "\t<tr><th scope=row>3</th><td>Promedio_A         </td><td>Hieght.Canopies    </td><td>0.672115038550411  </td><td>0.393832337911125  </td><td>-0.138767293942483 </td><td>0.00313224478289262</td><td>0.373624675506314  </td><td>0.253705955042277  </td><td>-0.298215764021587 </td></tr>\n",
       "\t<tr><th scope=row>4</th><td>STD_A              </td><td>Hieght.Canopies    </td><td>0.789784461903717  </td><td>0.412115437256486  </td><td>-0.0491633246154661</td><td>-0.187929206135685 </td><td>0.301076681899943  </td><td>0.301551214586249  </td><td>-0.329918023607281 </td></tr>\n",
       "\t<tr><th scope=row>5</th><td>Copas_B           </td><td>Midle1.Canopies   </td><td>0.44231515720977  </td><td>0.88395131534034  </td><td>0.227577955613479 </td><td>0.34410188923242  </td><td>0.807301180930434 </td><td>0.566422768045243 </td><td>-0.621058552391112</td></tr>\n",
       "\t<tr><th scope=row>6</th><td>Cobertura_B       </td><td>Midle1.Canopies   </td><td>0.496245643744107 </td><td>0.993479294561978 </td><td>0.13078255915272  </td><td>0.303913338979056 </td><td>0.873503647898155 </td><td>0.597532612315923 </td><td>-0.669180896970888</td></tr>\n",
       "\t<tr><th scope=row>7</th><td>Promedio_B         </td><td>Midle1.Canopies    </td><td>0.319464797929433  </td><td>0.711389959258348  </td><td>-0.0400846635645223</td><td>0.136653888765394  </td><td>0.579034610696536  </td><td>0.231580269142035  </td><td>-0.31461727298685  </td></tr>\n",
       "\t<tr><th scope=row>8</th><td>Copas_C            </td><td>Midle2.Canopies    </td><td>-0.0391035837051883</td><td>0.0189503699086996 </td><td>0.47408348163835   </td><td>0.301497459654833  </td><td>0.0694464801945686 </td><td>0.107129640558924  </td><td>-0.0896605248719219</td></tr>\n",
       "\t<tr><th scope=row>9</th><td>Cobertura_C       </td><td>Midle2.Canopies   </td><td>-0.110065744503097</td><td>0.125595634919676 </td><td>0.994483529540894 </td><td>0.410252405442274 </td><td>0.205493631772666 </td><td>0.210909253730165 </td><td>-0.191186016193234</td></tr>\n",
       "\t<tr><th scope=row>10</th><td>Promedio_C         </td><td>Midle2.Canopies    </td><td>0.00227536785069336</td><td>0.106954814516118  </td><td>0.247994063022574  </td><td>-0.0624333138782381</td><td>0.0766904792396831 </td><td>0.0790222323971254 </td><td>-0.0697021139252762</td></tr>\n",
       "\t<tr><th scope=row>11</th><td>Copas_D            </td><td>Low.Canopies       </td><td>0.0942380158513661 </td><td>-0.271463837217265 </td><td>-0.436003126608121 </td><td>-0.899995291539908 </td><td>-0.461549676711829 </td><td>-0.0660534819506554</td><td>0.181114549593908  </td></tr>\n",
       "\t<tr><th scope=row>12</th><td>Cobertura_D       </td><td>Low.Canopies      </td><td>0.180248894490902 </td><td>-0.121972742470365</td><td>-0.373195362510906</td><td>-0.633299211530968</td><td>-0.295292181783647</td><td>0.0331376423520435</td><td>0.0807982674587191</td></tr>\n",
       "\t<tr><th scope=row>13</th><td>Promedio_D        </td><td>Low.Canopies      </td><td>0.115156320937539 </td><td>0.239655796529623 </td><td>0.0620685521521572</td><td>0.494577822579864 </td><td>0.287869869192961 </td><td>0.156575076345464 </td><td>-0.144373541387103</td></tr>\n",
       "\t<tr><th scope=row>14</th><td>STD_D             </td><td>Low.Canopies      </td><td>0.0466238108255403</td><td>0.210989164735152 </td><td>0.125406787163317 </td><td>0.650842769443926 </td><td>0.288379883396059 </td><td>0.0971276299670169</td><td>-0.117487345206143</td></tr>\n",
       "\t<tr><th scope=row>15</th><td>Copas_total        </td><td>OBIA               </td><td>0.418654489838281  </td><td>0.570599948412338  </td><td>0.00249936354121522</td><td>0.0638728233756379 </td><td>0.664623343022256  </td><td>0.273420727459669  </td><td>-0.370237059917814 </td></tr>\n",
       "\t<tr><th scope=row>16</th><td>Copas_altas        </td><td>OBIA               </td><td>0.669722851969746  </td><td>0.488923917719714  </td><td>-0.0880814509557413</td><td>0.234445588081725  </td><td>0.644419737978339  </td><td>0.338824356849829  </td><td>-0.366587526305245 </td></tr>\n",
       "\t<tr><th scope=row>17</th><td>Copas_medianas    </td><td>OBIA              </td><td>0.204439945467969 </td><td>0.768040687243468 </td><td>0.315547663672855 </td><td>0.383511429264679 </td><td>0.751267044129976 </td><td>0.439093085883244 </td><td>-0.566285958101097</td></tr>\n",
       "\t<tr><th scope=row>18</th><td>Copas_bajas       </td><td>OBIA              </td><td>-0.251829412354326</td><td>-0.645077386271644</td><td>-0.29216289648397 </td><td>-0.552940013874502</td><td>-0.638208075216374</td><td>-0.44728091657966 </td><td>0.525287956465022 </td></tr>\n",
       "\t<tr><th scope=row>19</th><td>Cobertura_total    </td><td>OBIA               </td><td>-0.0684326495718846</td><td>-0.122368077005591 </td><td>0.0839141366958184 </td><td>0.204850605334762  </td><td>-0.054653848646225 </td><td>-0.151217229417888 </td><td>0.20461868797609   </td></tr>\n",
       "\t<tr><th scope=row>20</th><td>Cobertura_altas    </td><td>OBIA               </td><td>0.674623225915142  </td><td>0.413160645757102  </td><td>-0.0407044891524651</td><td>0.227970831411015  </td><td>0.596910325699595  </td><td>0.263544606881536  </td><td>-0.312206956989512 </td></tr>\n",
       "\t<tr><th scope=row>21</th><td>Cobertua_medianas </td><td>OBIA              </td><td>0.122574716897042 </td><td>0.77278528015989  </td><td>0.346306032651091 </td><td>0.531940867025897 </td><td>0.764992398968243 </td><td>0.447938902233057 </td><td>-0.555719363243558</td></tr>\n",
       "\t<tr><th scope=row>22</th><td>Cobertura_bajas   </td><td>OBIA              </td><td>-0.393401023353709</td><td>-0.869946368021502</td><td>-0.279790069486496</td><td>-0.575401488297005</td><td>-0.944939696940639</td><td>-0.500524041329783</td><td>0.62924938389248  </td></tr>\n",
       "\t<tr><th scope=row>23</th><td>Promedio_altas    </td><td>OBIA              </td><td>0.495576444303081 </td><td>0.435750415369993 </td><td>-0.056633471676596</td><td>0.268218906051599 </td><td>0.525795325211123 </td><td>0.165512122370488 </td><td>-0.238333430035501</td></tr>\n",
       "\t<tr><th scope=row>24</th><td>Promedio_bajas    </td><td>OBIA              </td><td>-0.308897797015337</td><td>-0.497437686889517</td><td>-0.115525248294272</td><td>-0.357150847430131</td><td>-0.727023045119911</td><td>-0.272260183486131</td><td>0.380985095418099 </td></tr>\n",
       "\t<tr><th scope=row>25</th><td>Promedio_medianas </td><td>OBIA              </td><td>0.11187326896202  </td><td>0.52329406759956  </td><td>0.140888267068203 </td><td>0.446529162698978 </td><td>0.522294767578688 </td><td>0.168618763729387 </td><td>-0.225565767169088</td></tr>\n",
       "\t<tr><th scope=row>26</th><td>Promedio_total     </td><td>OBIA               </td><td>-0.403351366488428 </td><td>-0.605322953007359 </td><td>0.00264075337222574</td><td>-0.041867492498994 </td><td>-0.668607588568929 </td><td>-0.294096422911735 </td><td>0.385287521851039  </td></tr>\n",
       "\t<tr><th scope=row>27</th><td>STD_altas         </td><td>OBIA              </td><td>0.526405964794448 </td><td>0.390404090097426 </td><td>0.0555445267982733</td><td>0.249022481101418 </td><td>0.585501029239287 </td><td>0.273247338297402 </td><td>-0.355089511493018</td></tr>\n",
       "\t<tr><th scope=row>28</th><td>STD_bajas         </td><td>OBIA              </td><td>-0.308031997893576</td><td>-0.474928198395805</td><td>-0.18108454438834 </td><td>-0.318840595085976</td><td>-0.6949127835221  </td><td>-0.237681127901869</td><td>0.313602392774756 </td></tr>\n",
       "\t<tr><th scope=row>29</th><td>STD_medianas      </td><td>OBIA              </td><td>0.0519803519735503</td><td>0.584017351772956 </td><td>0.215783146204284 </td><td>0.450088520909368 </td><td>0.58648254767977  </td><td>0.382314148193159 </td><td>-0.421206260276992</td></tr>\n",
       "\t<tr><th scope=row>30</th><td>STD_total          </td><td>OBIA               </td><td>-0.389119887204589 </td><td>-0.519990787490637 </td><td>-0.0335453800687905</td><td>-0.036062574831826 </td><td>-0.609744395066354 </td><td>-0.174096769493999 </td><td>0.25430336825763   </td></tr>\n",
       "\t<tr><th scope=row>31</th><td>D_Elev_CURT_mean_CUBE</td><td>Topography           </td><td>0.181642527970136    </td><td>-0.0713392941962084  </td><td>-0.263876380461053   </td><td>-0.539584285825315   </td><td>-0.230090624349551   </td><td>0.140659883360907    </td><td>0.00303274596208409  </td></tr>\n",
       "\t<tr><th scope=row>32</th><td>DTM_1_mean        </td><td>Topography        </td><td>0.418207714058263 </td><td>0.526559007350189 </td><td>0.0973858667547401</td><td>-0.117150170454601</td><td>0.414531922522527 </td><td>0.864597803566728 </td><td>-0.72485744974804 </td></tr>\n",
       "\t<tr><th scope=row>33</th><td>slope_1m_std      </td><td>Topography        </td><td>-0.139374216691116</td><td>-0.323121794493812</td><td>-0.287245994575352</td><td>-0.359348203509761</td><td>-0.353007346607618</td><td>-0.69239461801966 </td><td>0.504902407430393 </td></tr>\n",
       "\t<tr><th scope=row>34</th><td>A_RICH              </td><td>Richness            </td><td>-0.383821946440711  </td><td>-0.485975638771359  </td><td>-0.127825920158167  </td><td>-0.00465549196735269</td><td>-0.417731485569692  </td><td>-0.695113461830622  </td><td>0.820645863738968   </td></tr>\n",
       "\t<tr><th scope=row>35</th><td>AR_RICH           </td><td>Richness          </td><td>-0.296442749217605</td><td>-0.618192027540917</td><td>-0.264849837923748</td><td>-0.246563567934039</td><td>-0.582398995535272</td><td>-0.649503215914659</td><td>0.899932533266213 </td></tr>\n",
       "\t<tr><th scope=row>36</th><td>H_RICH            </td><td>Richness          </td><td>-0.334408013166875</td><td>-0.533751895909919</td><td>-0.119318219238266</td><td>-0.238572906393757</td><td>-0.579879091424347</td><td>-0.717647878389006</td><td>0.857218630090367 </td></tr>\n",
       "</tbody>\n",
       "</table>\n"
      ],
      "text/latex": [
       "\\begin{tabular}{r|lllllllll}\n",
       "  & name & block & Hieght.Canopies & Midle1.Canopies & Midle2.Canopies & Low.Canopies & OBIA & Topography & Richness\\\\\n",
       "\\hline\n",
       "\t1 & Copas\\_A           & Hieght.Canopies     & 0.887519839594922   & 0.408320449896677   & -0.0409628240716801 & -0.001321448147798  & 0.494507103206552   & 0.360346091919818   & -0.347890513463862 \\\\\n",
       "\t2 & Cobertura\\_        & Hieght.Canopies     & 0.94614604741216    & 0.423037715082624   & -0.101613998438346  & -0.0378794248622538 & 0.477033100750562   & 0.342332956501919   & -0.330279634319887 \\\\\n",
       "\t3 & Promedio\\_A        & Hieght.Canopies     & 0.672115038550411   & 0.393832337911125   & -0.138767293942483  & 0.00313224478289262 & 0.373624675506314   & 0.253705955042277   & -0.298215764021587 \\\\\n",
       "\t4 & STD\\_A             & Hieght.Canopies     & 0.789784461903717   & 0.412115437256486   & -0.0491633246154661 & -0.187929206135685  & 0.301076681899943   & 0.301551214586249   & -0.329918023607281 \\\\\n",
       "\t5 & Copas\\_B          & Midle1.Canopies    & 0.44231515720977   & 0.88395131534034   & 0.227577955613479  & 0.34410188923242   & 0.807301180930434  & 0.566422768045243  & -0.621058552391112\\\\\n",
       "\t6 & Cobertura\\_B      & Midle1.Canopies    & 0.496245643744107  & 0.993479294561978  & 0.13078255915272   & 0.303913338979056  & 0.873503647898155  & 0.597532612315923  & -0.669180896970888\\\\\n",
       "\t7 & Promedio\\_B        & Midle1.Canopies     & 0.319464797929433   & 0.711389959258348   & -0.0400846635645223 & 0.136653888765394   & 0.579034610696536   & 0.231580269142035   & -0.31461727298685  \\\\\n",
       "\t8 & Copas\\_C           & Midle2.Canopies     & -0.0391035837051883 & 0.0189503699086996  & 0.47408348163835    & 0.301497459654833   & 0.0694464801945686  & 0.107129640558924   & -0.0896605248719219\\\\\n",
       "\t9 & Cobertura\\_C      & Midle2.Canopies    & -0.110065744503097 & 0.125595634919676  & 0.994483529540894  & 0.410252405442274  & 0.205493631772666  & 0.210909253730165  & -0.191186016193234\\\\\n",
       "\t10 & Promedio\\_C        & Midle2.Canopies     & 0.00227536785069336 & 0.106954814516118   & 0.247994063022574   & -0.0624333138782381 & 0.0766904792396831  & 0.0790222323971254  & -0.0697021139252762\\\\\n",
       "\t11 & Copas\\_D           & Low.Canopies        & 0.0942380158513661  & -0.271463837217265  & -0.436003126608121  & -0.899995291539908  & -0.461549676711829  & -0.0660534819506554 & 0.181114549593908  \\\\\n",
       "\t12 & Cobertura\\_D      & Low.Canopies       & 0.180248894490902  & -0.121972742470365 & -0.373195362510906 & -0.633299211530968 & -0.295292181783647 & 0.0331376423520435 & 0.0807982674587191\\\\\n",
       "\t13 & Promedio\\_D       & Low.Canopies       & 0.115156320937539  & 0.239655796529623  & 0.0620685521521572 & 0.494577822579864  & 0.287869869192961  & 0.156575076345464  & -0.144373541387103\\\\\n",
       "\t14 & STD\\_D            & Low.Canopies       & 0.0466238108255403 & 0.210989164735152  & 0.125406787163317  & 0.650842769443926  & 0.288379883396059  & 0.0971276299670169 & -0.117487345206143\\\\\n",
       "\t15 & Copas\\_total       & OBIA                & 0.418654489838281   & 0.570599948412338   & 0.00249936354121522 & 0.0638728233756379  & 0.664623343022256   & 0.273420727459669   & -0.370237059917814 \\\\\n",
       "\t16 & Copas\\_altas       & OBIA                & 0.669722851969746   & 0.488923917719714   & -0.0880814509557413 & 0.234445588081725   & 0.644419737978339   & 0.338824356849829   & -0.366587526305245 \\\\\n",
       "\t17 & Copas\\_medianas   & OBIA               & 0.204439945467969  & 0.768040687243468  & 0.315547663672855  & 0.383511429264679  & 0.751267044129976  & 0.439093085883244  & -0.566285958101097\\\\\n",
       "\t18 & Copas\\_bajas      & OBIA               & -0.251829412354326 & -0.645077386271644 & -0.29216289648397  & -0.552940013874502 & -0.638208075216374 & -0.44728091657966  & 0.525287956465022 \\\\\n",
       "\t19 & Cobertura\\_total   & OBIA                & -0.0684326495718846 & -0.122368077005591  & 0.0839141366958184  & 0.204850605334762   & -0.054653848646225  & -0.151217229417888  & 0.20461868797609   \\\\\n",
       "\t20 & Cobertura\\_altas   & OBIA                & 0.674623225915142   & 0.413160645757102   & -0.0407044891524651 & 0.227970831411015   & 0.596910325699595   & 0.263544606881536   & -0.312206956989512 \\\\\n",
       "\t21 & Cobertua\\_medianas & OBIA                & 0.122574716897042   & 0.77278528015989    & 0.346306032651091   & 0.531940867025897   & 0.764992398968243   & 0.447938902233057   & -0.555719363243558 \\\\\n",
       "\t22 & Cobertura\\_bajas  & OBIA               & -0.393401023353709 & -0.869946368021502 & -0.279790069486496 & -0.575401488297005 & -0.944939696940639 & -0.500524041329783 & 0.62924938389248  \\\\\n",
       "\t23 & Promedio\\_altas   & OBIA               & 0.495576444303081  & 0.435750415369993  & -0.056633471676596 & 0.268218906051599  & 0.525795325211123  & 0.165512122370488  & -0.238333430035501\\\\\n",
       "\t24 & Promedio\\_bajas   & OBIA               & -0.308897797015337 & -0.497437686889517 & -0.115525248294272 & -0.357150847430131 & -0.727023045119911 & -0.272260183486131 & 0.380985095418099 \\\\\n",
       "\t25 & Promedio\\_medianas & OBIA                & 0.11187326896202    & 0.52329406759956    & 0.140888267068203   & 0.446529162698978   & 0.522294767578688   & 0.168618763729387   & -0.225565767169088 \\\\\n",
       "\t26 & Promedio\\_total    & OBIA                & -0.403351366488428  & -0.605322953007359  & 0.00264075337222574 & -0.041867492498994  & -0.668607588568929  & -0.294096422911735  & 0.385287521851039  \\\\\n",
       "\t27 & STD\\_altas        & OBIA               & 0.526405964794448  & 0.390404090097426  & 0.0555445267982733 & 0.249022481101418  & 0.585501029239287  & 0.273247338297402  & -0.355089511493018\\\\\n",
       "\t28 & STD\\_bajas        & OBIA               & -0.308031997893576 & -0.474928198395805 & -0.18108454438834  & -0.318840595085976 & -0.6949127835221   & -0.237681127901869 & 0.313602392774756 \\\\\n",
       "\t29 & STD\\_medianas     & OBIA               & 0.0519803519735503 & 0.584017351772956  & 0.215783146204284  & 0.450088520909368  & 0.58648254767977   & 0.382314148193159  & -0.421206260276992\\\\\n",
       "\t30 & STD\\_total         & OBIA                & -0.389119887204589  & -0.519990787490637  & -0.0335453800687905 & -0.036062574831826  & -0.609744395066354  & -0.174096769493999  & 0.25430336825763   \\\\\n",
       "\t31 & D\\_Elev\\_CURT\\_mean\\_CUBE & Topography                    & 0.181642527970136             & -0.0713392941962084           & -0.263876380461053            & -0.539584285825315            & -0.230090624349551            & 0.140659883360907             & 0.00303274596208409          \\\\\n",
       "\t32 & DTM\\_1\\_mean     & Topography         & 0.418207714058263  & 0.526559007350189  & 0.0973858667547401 & -0.117150170454601 & 0.414531922522527  & 0.864597803566728  & -0.72485744974804 \\\\\n",
       "\t33 & slope\\_1m\\_std   & Topography         & -0.139374216691116 & -0.323121794493812 & -0.287245994575352 & -0.359348203509761 & -0.353007346607618 & -0.69239461801966  & 0.504902407430393 \\\\\n",
       "\t34 & A\\_RICH             & Richness             & -0.383821946440711   & -0.485975638771359   & -0.127825920158167   & -0.00465549196735269 & -0.417731485569692   & -0.695113461830622   & 0.820645863738968   \\\\\n",
       "\t35 & AR\\_RICH          & Richness           & -0.296442749217605 & -0.618192027540917 & -0.264849837923748 & -0.246563567934039 & -0.582398995535272 & -0.649503215914659 & 0.899932533266213 \\\\\n",
       "\t36 & H\\_RICH           & Richness           & -0.334408013166875 & -0.533751895909919 & -0.119318219238266 & -0.238572906393757 & -0.579879091424347 & -0.717647878389006 & 0.857218630090367 \\\\\n",
       "\\end{tabular}\n"
      ],
      "text/plain": [
       "                    name           block Hieght.Canopies Midle1.Canopies\n",
       "1                Copas_A Hieght.Canopies     0.887519840      0.40832045\n",
       "2             Cobertura_ Hieght.Canopies     0.946146047      0.42303772\n",
       "3             Promedio_A Hieght.Canopies     0.672115039      0.39383234\n",
       "4                  STD_A Hieght.Canopies     0.789784462      0.41211544\n",
       "5                Copas_B Midle1.Canopies     0.442315157      0.88395132\n",
       "6            Cobertura_B Midle1.Canopies     0.496245644      0.99347929\n",
       "7             Promedio_B Midle1.Canopies     0.319464798      0.71138996\n",
       "8                Copas_C Midle2.Canopies    -0.039103584      0.01895037\n",
       "9            Cobertura_C Midle2.Canopies    -0.110065745      0.12559563\n",
       "10            Promedio_C Midle2.Canopies     0.002275368      0.10695481\n",
       "11               Copas_D    Low.Canopies     0.094238016     -0.27146384\n",
       "12           Cobertura_D    Low.Canopies     0.180248894     -0.12197274\n",
       "13            Promedio_D    Low.Canopies     0.115156321      0.23965580\n",
       "14                 STD_D    Low.Canopies     0.046623811      0.21098916\n",
       "15           Copas_total            OBIA     0.418654490      0.57059995\n",
       "16           Copas_altas            OBIA     0.669722852      0.48892392\n",
       "17        Copas_medianas            OBIA     0.204439945      0.76804069\n",
       "18           Copas_bajas            OBIA    -0.251829412     -0.64507739\n",
       "19       Cobertura_total            OBIA    -0.068432650     -0.12236808\n",
       "20       Cobertura_altas            OBIA     0.674623226      0.41316065\n",
       "21     Cobertua_medianas            OBIA     0.122574717      0.77278528\n",
       "22       Cobertura_bajas            OBIA    -0.393401023     -0.86994637\n",
       "23        Promedio_altas            OBIA     0.495576444      0.43575042\n",
       "24        Promedio_bajas            OBIA    -0.308897797     -0.49743769\n",
       "25     Promedio_medianas            OBIA     0.111873269      0.52329407\n",
       "26        Promedio_total            OBIA    -0.403351366     -0.60532295\n",
       "27             STD_altas            OBIA     0.526405965      0.39040409\n",
       "28             STD_bajas            OBIA    -0.308031998     -0.47492820\n",
       "29          STD_medianas            OBIA     0.051980352      0.58401735\n",
       "30             STD_total            OBIA    -0.389119887     -0.51999079\n",
       "31 D_Elev_CURT_mean_CUBE      Topography     0.181642528     -0.07133929\n",
       "32            DTM_1_mean      Topography     0.418207714      0.52655901\n",
       "33          slope_1m_std      Topography    -0.139374217     -0.32312179\n",
       "34                A_RICH        Richness    -0.383821946     -0.48597564\n",
       "35               AR_RICH        Richness    -0.296442749     -0.61819203\n",
       "36                H_RICH        Richness    -0.334408013     -0.53375190\n",
       "   Midle2.Canopies Low.Canopies        OBIA  Topography     Richness\n",
       "1     -0.040962824 -0.001321448  0.49450710  0.36034609 -0.347890513\n",
       "2     -0.101613998 -0.037879425  0.47703310  0.34233296 -0.330279634\n",
       "3     -0.138767294  0.003132245  0.37362468  0.25370596 -0.298215764\n",
       "4     -0.049163325 -0.187929206  0.30107668  0.30155121 -0.329918024\n",
       "5      0.227577956  0.344101889  0.80730118  0.56642277 -0.621058552\n",
       "6      0.130782559  0.303913339  0.87350365  0.59753261 -0.669180897\n",
       "7     -0.040084664  0.136653889  0.57903461  0.23158027 -0.314617273\n",
       "8      0.474083482  0.301497460  0.06944648  0.10712964 -0.089660525\n",
       "9      0.994483530  0.410252405  0.20549363  0.21090925 -0.191186016\n",
       "10     0.247994063 -0.062433314  0.07669048  0.07902223 -0.069702114\n",
       "11    -0.436003127 -0.899995292 -0.46154968 -0.06605348  0.181114550\n",
       "12    -0.373195363 -0.633299212 -0.29529218  0.03313764  0.080798267\n",
       "13     0.062068552  0.494577823  0.28786987  0.15657508 -0.144373541\n",
       "14     0.125406787  0.650842769  0.28837988  0.09712763 -0.117487345\n",
       "15     0.002499364  0.063872823  0.66462334  0.27342073 -0.370237060\n",
       "16    -0.088081451  0.234445588  0.64441974  0.33882436 -0.366587526\n",
       "17     0.315547664  0.383511429  0.75126704  0.43909309 -0.566285958\n",
       "18    -0.292162896 -0.552940014 -0.63820808 -0.44728092  0.525287956\n",
       "19     0.083914137  0.204850605 -0.05465385 -0.15121723  0.204618688\n",
       "20    -0.040704489  0.227970831  0.59691033  0.26354461 -0.312206957\n",
       "21     0.346306033  0.531940867  0.76499240  0.44793890 -0.555719363\n",
       "22    -0.279790069 -0.575401488 -0.94493970 -0.50052404  0.629249384\n",
       "23    -0.056633472  0.268218906  0.52579533  0.16551212 -0.238333430\n",
       "24    -0.115525248 -0.357150847 -0.72702305 -0.27226018  0.380985095\n",
       "25     0.140888267  0.446529163  0.52229477  0.16861876 -0.225565767\n",
       "26     0.002640753 -0.041867492 -0.66860759 -0.29409642  0.385287522\n",
       "27     0.055544527  0.249022481  0.58550103  0.27324734 -0.355089511\n",
       "28    -0.181084544 -0.318840595 -0.69491278 -0.23768113  0.313602393\n",
       "29     0.215783146  0.450088521  0.58648255  0.38231415 -0.421206260\n",
       "30    -0.033545380 -0.036062575 -0.60974440 -0.17409677  0.254303368\n",
       "31    -0.263876380 -0.539584286 -0.23009062  0.14065988  0.003032746\n",
       "32     0.097385867 -0.117150170  0.41453192  0.86459780 -0.724857450\n",
       "33    -0.287245995 -0.359348204 -0.35300735 -0.69239462  0.504902407\n",
       "34    -0.127825920 -0.004655492 -0.41773149 -0.69511346  0.820645864\n",
       "35    -0.264849838 -0.246563568 -0.58239900 -0.64950322  0.899932533\n",
       "36    -0.119318219 -0.238572906 -0.57987909 -0.71764788  0.857218630"
      ]
     },
     "metadata": {},
     "output_type": "display_data"
    }
   ],
   "source": [
    "# Another measure of block construction is the \"crossloadings\". This gives you the correlation of the variables with all Latent Variables.\n",
    "# The idea is to find if there are any \"traitor\" indicators. That means that the R should be higher within his own block or LV\n",
    "Q_pls$crossloading"
   ]
  },
  {
   "cell_type": "code",
   "execution_count": 126,
   "metadata": {
    "collapsed": true
   },
   "outputs": [],
   "source": [
    "# now you can eliminate all variables with loading below 0.7\n",
    "# Also, internally is not possible to have negative loading. The proposed solution is to invert the scale of the ill-fated manifest variables:\n",
    "datapls$NCobertura_bajas = -1 * datapls$Cobertura_bajas # new variable N° 255\n",
    "datapls$Nslope_1m_std    = -1 * datapls$slope_1m_std    # new variable N° 256"
   ]
  },
  {
   "cell_type": "code",
   "execution_count": 127,
   "metadata": {
    "collapsed": true
   },
   "outputs": [],
   "source": [
    "### Run second try!\n",
    "# set again the list of indicators with the selected and inverted variables\n",
    "\n",
    "# (80:83, 123:126, 166:168, 209:212, 25:40, 251:253, c(6,7,8))\n",
    "\n",
    "Q_outer = list (c(80,81,83), c(123,124), c(167), c(209,210), c(27,31,255), c(252, 256), c(6,7,8))"
   ]
  },
  {
   "cell_type": "code",
   "execution_count": 128,
   "metadata": {
    "collapsed": false
   },
   "outputs": [
    {
     "data": {
      "text/plain": [
       "PARTIAL LEAST SQUARES PATH MODELING (PLS-PM) \n",
       "\n",
       "---------------------------------------------------------- \n",
       "MODEL SPECIFICATION \n",
       "1   Number of Cases      78 \n",
       "2   Latent Variables     7 \n",
       "3   Manifest Variables   16 \n",
       "4   Scale of Data        Standardized Data \n",
       "5   Non-Metric PLS       FALSE \n",
       "6   Weighting Scheme     factorial \n",
       "7   Tolerance Crit       1e-06 \n",
       "8   Max Num Iters        1000 \n",
       "9   Convergence Iters    4 \n",
       "10  Bootstrapping        TRUE \n",
       "11  Bootstrap samples    1000 \n",
       "\n",
       "---------------------------------------------------------- \n",
       "BLOCKS DEFINITION \n",
       "              Block         Type   Size   Mode\n",
       "1   Hieght.Canopies    Exogenous      3      A\n",
       "2   Midle1.Canopies    Exogenous      2      A\n",
       "3   Midle2.Canopies    Exogenous      1      A\n",
       "4      Low.Canopies    Exogenous      2      A\n",
       "5              OBIA   Endogenous      3      A\n",
       "6        Topography    Exogenous      2      A\n",
       "7          Richness   Endogenous      3      A\n",
       "\n",
       "---------------------------------------------------------- \n",
       "BLOCKS UNIDIMENSIONALITY \n",
       "                 Mode  MVs  C.alpha  DG.rho  eig.1st  eig.2nd\n",
       "Hieght.Canopies     A    3    0.876   0.926     2.42    0.537\n",
       "Midle1.Canopies     A    2    0.940   0.971     1.89    0.112\n",
       "Midle2.Canopies     A    1    1.000   1.000     1.00    0.000\n",
       "Low.Canopies        A    2    0.933   0.968     1.88    0.125\n",
       "OBIA                A    3    0.948   0.966     2.72    0.193\n",
       "Topography          A    2    0.382   0.764     1.24    0.764\n",
       "Richness            A    3    0.823   0.895     2.22    0.495\n",
       "\n",
       "---------------------------------------------------------- \n",
       "OUTER MODEL \n",
       "                       weight  loading  communality  redundancy\n",
       "Hieght.Canopies                                                \n",
       "  1 Copas_A             0.376    0.918        0.842       0.000\n",
       "  1 Cobertura_          0.351    0.955        0.913       0.000\n",
       "  1 STD_A               0.393    0.812        0.660       0.000\n",
       "Midle1.Canopies                                                \n",
       "  2 Copas_B             0.504    0.970        0.941       0.000\n",
       "  2 Cobertura_B         0.526    0.973        0.946       0.000\n",
       "Midle2.Canopies                                                \n",
       "  3 Cobertura_C         1.000    1.000        1.000       0.000\n",
       "Low.Canopies                                                   \n",
       "  4 Copas_D             0.602    0.978        0.957       0.000\n",
       "  4 Cobertura_D         0.430    0.957        0.915       0.000\n",
       "OBIA                                                           \n",
       "  5 Copas_medianas      0.331    0.933        0.870       0.713\n",
       "  5 Cobertua_medianas   0.338    0.968        0.936       0.767\n",
       "  5 NCobertura_bajas    0.382    0.954        0.910       0.745\n",
       "Topography                                                     \n",
       "  6 DTM_1_mean          0.742    0.864        0.747       0.000\n",
       "  6 Nslope_1m_std       0.518    0.693        0.480       0.000\n",
       "Richness                                                       \n",
       "  7 A_RICH              0.352    0.817        0.667       0.471\n",
       "  7 AR_RICH             0.396    0.902        0.813       0.574\n",
       "  7 H_RICH              0.414    0.859        0.737       0.520\n",
       "\n",
       "---------------------------------------------------------- \n",
       "CROSSLOADINGS \n",
       "                       Hieght.Canopies  Midle1.Canopies  Midle2.Canopies\n",
       "Hieght.Canopies                                                         \n",
       "  1 Copas_A                     0.9178            0.422          -0.0481\n",
       "  1 Cobertura_                  0.9554            0.418          -0.1120\n",
       "  1 STD_A                       0.8124            0.393          -0.0626\n",
       "Midle1.Canopies                                                         \n",
       "  2 Copas_B                     0.4259            0.970           0.2117\n",
       "  2 Cobertura_B                 0.4673            0.973           0.1193\n",
       "Midle2.Canopies                                                         \n",
       "  3 Cobertura_C                -0.0820            0.169           1.0000\n",
       "Low.Canopies                                                            \n",
       "  4 Copas_D                     0.1250           -0.294          -0.4566\n",
       "  4 Cobertura_D                 0.2010           -0.131          -0.3903\n",
       "OBIA                                                                    \n",
       "  5 Copas_medianas              0.1707            0.781           0.3128\n",
       "  5 Cobertua_medianas           0.0867            0.774           0.3398\n",
       "  5 NCobertura_bajas            0.3545            0.866           0.2767\n",
       "Topography                                                              \n",
       "  6 DTM_1_mean                  0.4257            0.562           0.0779\n",
       "  6 Nslope_1m_std               0.1133            0.352           0.2941\n",
       "Richness                                                                \n",
       "  7 A_RICH                     -0.3679           -0.504          -0.1191\n",
       "  7 AR_RICH                    -0.2806           -0.639          -0.2569\n",
       "  7 H_RICH                     -0.3263           -0.567          -0.1169\n",
       "                       Low.Canopies    OBIA  Topography  Richness\n",
       "Hieght.Canopies                                                  \n",
       "  1 Copas_A                  0.0678   0.199      0.3604   -0.3473\n",
       "  1 Cobertura_               0.1177   0.185      0.3425   -0.3293\n",
       "  1 STD_A                    0.2413   0.207      0.3021   -0.3291\n",
       "Midle1.Canopies                                                  \n",
       "  2 Copas_B                 -0.2497   0.808      0.5660   -0.6218\n",
       "  2 Cobertura_B             -0.2039   0.844      0.5970   -0.6697\n",
       "Midle2.Canopies                                                  \n",
       "  3 Cobertura_C             -0.4426   0.324      0.2101   -0.1921\n",
       "Low.Canopies                                                     \n",
       "  4 Copas_D                  0.9781  -0.519     -0.0641    0.1827\n",
       "  4 Cobertura_D              0.9567  -0.371      0.0355    0.0816\n",
       "OBIA                                                             \n",
       "  5 Copas_medianas          -0.3624   0.933      0.4384   -0.5673\n",
       "  5 Cobertua_medianas       -0.4719   0.968      0.4471   -0.5574\n",
       "  5 NCobertura_bajas        -0.5039   0.954      0.4995   -0.6307\n",
       "Topography                                                       \n",
       "  6 DTM_1_mean               0.1323   0.380      0.8642   -0.7237\n",
       "  6 Nslope_1m_std           -0.2347   0.395      0.6929   -0.5050\n",
       "Richness                                                         \n",
       "  7 A_RICH                   0.0238  -0.385     -0.6949    0.8169\n",
       "  7 AR_RICH                  0.1955  -0.607     -0.6489    0.9019\n",
       "  7 H_RICH                   0.1431  -0.582     -0.7175    0.8585\n",
       "\n",
       "---------------------------------------------------------- \n",
       "INNER MODEL \n",
       "$OBIA\n",
       "                   Estimate   Std. Error     t value   Pr(>|t|)\n",
       "Intercept          8.04e-17       0.0498    1.61e-15   1.00e+00\n",
       "Hieght.Canopies   -1.25e-01       0.0591   -2.12e+00   3.76e-02\n",
       "Midle1.Canopies    8.44e-01       0.0602    1.40e+01   2.04e-22\n",
       "Midle2.Canopies    7.20e-02       0.0558    1.29e+00   2.01e-01\n",
       "Low.Canopies      -2.23e-01       0.0585   -3.81e+00   2.83e-04\n",
       "\n",
       "$Richness\n",
       "              Estimate   Std. Error     t value   Pr(>|t|)\n",
       "Intercept    -2.08e-16       0.0626   -3.32e-15   1.00e+00\n",
       "OBIA         -2.99e-01       0.0717   -4.17e+00   8.06e-05\n",
       "Topography   -6.53e-01       0.0717   -9.10e+00   9.53e-14\n",
       "\n",
       "---------------------------------------------------------- \n",
       "CORRELATIONS BETWEEN LVs \n",
       "                 Hieght.Canopies  Midle1.Canopies  Midle2.Canopies\n",
       "Hieght.Canopies            1.000            0.460           -0.082\n",
       "Midle1.Canopies            0.460            1.000            0.169\n",
       "Midle2.Canopies           -0.082            0.169            1.000\n",
       "Low.Canopies               0.162           -0.233           -0.443\n",
       "OBIA                       0.221            0.851            0.324\n",
       "Topography                 0.375            0.599            0.210\n",
       "Richness                  -0.376           -0.665           -0.192\n",
       "                 Low.Canopies    OBIA  Topography  Richness\n",
       "Hieght.Canopies        0.1616   0.221      0.3746    -0.376\n",
       "Midle1.Canopies       -0.2330   0.851      0.5989    -0.665\n",
       "Midle2.Canopies       -0.4426   0.324      0.2101    -0.192\n",
       "Low.Canopies           1.0000  -0.472     -0.0233     0.145\n",
       "OBIA                  -0.4719   1.000      0.4870    -0.617\n",
       "Topography            -0.0233   0.487      1.0000    -0.798\n",
       "Richness               0.1450  -0.617     -0.7984     1.000\n",
       "\n",
       "---------------------------------------------------------- \n",
       "SUMMARY INNER MODEL \n",
       "                       Type     R2  Block_Communality  Mean_Redundancy    AVE\n",
       "Hieght.Canopies   Exogenous  0.000              0.805            0.000  0.805\n",
       "Midle1.Canopies   Exogenous  0.000              0.944            0.000  0.944\n",
       "Midle2.Canopies   Exogenous  0.000              1.000            0.000  1.000\n",
       "Low.Canopies      Exogenous  0.000              0.936            0.000  0.936\n",
       "OBIA             Endogenous  0.819              0.905            0.742  0.905\n",
       "Topography        Exogenous  0.000              0.614            0.000  0.614\n",
       "Richness         Endogenous  0.706              0.739            0.522  0.739\n",
       "\n",
       "---------------------------------------------------------- \n",
       "GOODNESS-OF-FIT \n",
       "[1]  0.7918\n",
       "\n",
       "---------------------------------------------------------- \n",
       "TOTAL EFFECTS \n",
       "                         relationships  direct  indirect    total\n",
       "1   Hieght.Canopies -> Midle1.Canopies   0.000    0.0000   0.0000\n",
       "2   Hieght.Canopies -> Midle2.Canopies   0.000    0.0000   0.0000\n",
       "3      Hieght.Canopies -> Low.Canopies   0.000    0.0000   0.0000\n",
       "4              Hieght.Canopies -> OBIA  -0.125    0.0000  -0.1252\n",
       "5        Hieght.Canopies -> Topography   0.000    0.0000   0.0000\n",
       "6          Hieght.Canopies -> Richness   0.000    0.0374   0.0374\n",
       "7   Midle1.Canopies -> Midle2.Canopies   0.000    0.0000   0.0000\n",
       "8      Midle1.Canopies -> Low.Canopies   0.000    0.0000   0.0000\n",
       "9              Midle1.Canopies -> OBIA   0.844    0.0000   0.8441\n",
       "10       Midle1.Canopies -> Topography   0.000    0.0000   0.0000\n",
       "11         Midle1.Canopies -> Richness   0.000   -0.2525  -0.2525\n",
       "12     Midle2.Canopies -> Low.Canopies   0.000    0.0000   0.0000\n",
       "13             Midle2.Canopies -> OBIA   0.072    0.0000   0.0720\n",
       "14       Midle2.Canopies -> Topography   0.000    0.0000   0.0000\n",
       "15         Midle2.Canopies -> Richness   0.000   -0.0216  -0.0216\n",
       "16                Low.Canopies -> OBIA  -0.223    0.0000  -0.2231\n",
       "17          Low.Canopies -> Topography   0.000    0.0000   0.0000\n",
       "18            Low.Canopies -> Richness   0.000    0.0667   0.0667\n",
       "19                  OBIA -> Topography   0.000    0.0000   0.0000\n",
       "20                    OBIA -> Richness  -0.299    0.0000  -0.2991\n",
       "21              Topography -> Richness  -0.653    0.0000  -0.6528\n",
       "\n",
       "--------------------------------------------------------- \n",
       "BOOTSTRAP VALIDATION \n",
       "weights \n",
       "                             Original  Mean.Boot  Std.Error  perc.025  perc.975\n",
       "Hieght.Canopies-Copas_A         0.376      0.366   1.19e-01     0.250     0.492\n",
       "Hieght.Canopies-Cobertura_      0.351      0.346   1.14e-01     0.174     0.451\n",
       "Hieght.Canopies-STD_A           0.393      0.390   1.62e-01     0.184     0.637\n",
       "Midle1.Canopies-Copas_B         0.504      0.504   1.03e-02     0.487     0.526\n",
       "Midle1.Canopies-Cobertura_B     0.526      0.526   1.09e-02     0.506     0.548\n",
       "Midle2.Canopies-Cobertura_C     1.000      1.000   1.20e-16     1.000     1.000\n",
       "Low.Canopies-Copas_D            0.602      0.604   3.70e-02     0.546     0.689\n",
       "Low.Canopies-Cobertura_D        0.430      0.428   3.61e-02     0.349     0.486\n",
       "OBIA-Copas_medianas             0.331      0.331   9.14e-03     0.312     0.348\n",
       "OBIA-Cobertua_medianas          0.338      0.338   9.24e-03     0.318     0.354\n",
       "OBIA-NCobertura_bajas           0.382      0.383   1.60e-02     0.357     0.418\n",
       "Topography-DTM_1_mean           0.742      0.740   6.92e-02     0.617     0.890\n",
       "Topography-Nslope_1m_std        0.518      0.515   5.75e-02     0.392     0.615\n",
       "Richness-A_RICH                 0.352      0.352   2.30e-02     0.304     0.395\n",
       "Richness-AR_RICH                0.396      0.395   2.36e-02     0.353     0.441\n",
       "Richness-H_RICH                 0.414      0.414   2.65e-02     0.367     0.470\n",
       "\n",
       "loadings \n",
       "                             Original  Mean.Boot  Std.Error  perc.025  perc.975\n",
       "Hieght.Canopies-Copas_A         0.918      0.912   7.04e-02     0.795     0.967\n",
       "Hieght.Canopies-Cobertura_      0.955      0.945   7.12e-02     0.869     0.983\n",
       "Hieght.Canopies-STD_A           0.812      0.804   1.30e-01     0.626     0.932\n",
       "Midle1.Canopies-Copas_B         0.970      0.970   7.01e-03     0.954     0.981\n",
       "Midle1.Canopies-Cobertura_B     0.973      0.972   6.27e-03     0.957     0.982\n",
       "Midle2.Canopies-Cobertura_C     1.000      1.000   1.11e-16     1.000     1.000\n",
       "Low.Canopies-Copas_D            0.978      0.978   5.49e-03     0.966     0.986\n",
       "Low.Canopies-Cobertura_D        0.957      0.955   1.29e-02     0.923     0.974\n",
       "OBIA-Copas_medianas             0.933      0.932   1.64e-02     0.895     0.959\n",
       "OBIA-Cobertua_medianas          0.968      0.967   1.02e-02     0.943     0.982\n",
       "OBIA-NCobertura_bajas           0.954      0.953   1.26e-02     0.923     0.974\n",
       "Topography-DTM_1_mean           0.864      0.866   3.15e-02     0.799     0.924\n",
       "Topography-Nslope_1m_std        0.693      0.688   9.28e-02     0.463     0.827\n",
       "Richness-A_RICH                 0.817      0.815   5.07e-02     0.695     0.891\n",
       "Richness-AR_RICH                0.902      0.900   2.25e-02     0.850     0.936\n",
       "Richness-H_RICH                 0.859      0.860   2.75e-02     0.802     0.906\n",
       "\n",
       "paths \n",
       "                         Original  Mean.Boot  Std.Error  perc.025  perc.975\n",
       "Hieght.Canopies -> OBIA    -0.125    -0.1190     0.0643   -0.2433   0.00849\n",
       "Midle1.Canopies -> OBIA     0.844     0.8427     0.0553    0.7259   0.94304\n",
       "Midle2.Canopies -> OBIA     0.072     0.0682     0.0529   -0.0351   0.16968\n",
       "Low.Canopies -> OBIA       -0.223    -0.2274     0.0616   -0.3554  -0.10893\n",
       "OBIA -> Richness           -0.299    -0.3011     0.0696   -0.4369  -0.16835\n",
       "Topography -> Richness     -0.653    -0.6548     0.0599   -0.7607  -0.53075\n",
       "\n",
       "rsq \n",
       "          Original  Mean.Boot  Std.Error  perc.025  perc.975\n",
       "OBIA         0.819      0.824     0.0323     0.755     0.880\n",
       "Richness     0.706      0.716     0.0450     0.615     0.795\n",
       "\n",
       "total.efs \n",
       "                                    Original  Mean.Boot  Std.Error  perc.025\n",
       "Hieght.Canopies -> Midle1.Canopies    0.0000     0.0000     0.0000   0.00000\n",
       "Hieght.Canopies -> Midle2.Canopies    0.0000     0.0000     0.0000   0.00000\n",
       "Hieght.Canopies -> Low.Canopies       0.0000     0.0000     0.0000   0.00000\n",
       "Hieght.Canopies -> OBIA              -0.1252    -0.1190     0.0643  -0.24331\n",
       "Hieght.Canopies -> Topography         0.0000     0.0000     0.0000   0.00000\n",
       "Hieght.Canopies -> Richness           0.0374     0.0353     0.0208  -0.00263\n",
       "Midle1.Canopies -> Midle2.Canopies    0.0000     0.0000     0.0000   0.00000\n",
       "Midle1.Canopies -> Low.Canopies       0.0000     0.0000     0.0000   0.00000\n",
       "Midle1.Canopies -> OBIA               0.8441     0.8427     0.0553   0.72590\n",
       "Midle1.Canopies -> Topography         0.0000     0.0000     0.0000   0.00000\n",
       "Midle1.Canopies -> Richness          -0.2525    -0.2531     0.0583  -0.37365\n",
       "Midle2.Canopies -> Low.Canopies       0.0000     0.0000     0.0000   0.00000\n",
       "Midle2.Canopies -> OBIA               0.0720     0.0682     0.0529  -0.03514\n",
       "Midle2.Canopies -> Topography         0.0000     0.0000     0.0000   0.00000\n",
       "Midle2.Canopies -> Richness          -0.0216    -0.0209     0.0177  -0.05907\n",
       "Low.Canopies -> OBIA                 -0.2231    -0.2274     0.0616  -0.35542\n",
       "Low.Canopies -> Topography            0.0000     0.0000     0.0000   0.00000\n",
       "Low.Canopies -> Richness              0.0667     0.0690     0.0264   0.02528\n",
       "OBIA -> Topography                    0.0000     0.0000     0.0000   0.00000\n",
       "OBIA -> Richness                     -0.2991    -0.3011     0.0696  -0.43686\n",
       "Topography -> Richness               -0.6528    -0.6548     0.0599  -0.76072\n",
       "                                    perc.975\n",
       "Hieght.Canopies -> Midle1.Canopies   0.00000\n",
       "Hieght.Canopies -> Midle2.Canopies   0.00000\n",
       "Hieght.Canopies -> Low.Canopies      0.00000\n",
       "Hieght.Canopies -> OBIA              0.00849\n",
       "Hieght.Canopies -> Topography        0.00000\n",
       "Hieght.Canopies -> Richness          0.08002\n",
       "Midle1.Canopies -> Midle2.Canopies   0.00000\n",
       "Midle1.Canopies -> Low.Canopies      0.00000\n",
       "Midle1.Canopies -> OBIA              0.94304\n",
       "Midle1.Canopies -> Topography        0.00000\n",
       "Midle1.Canopies -> Richness         -0.14114\n",
       "Midle2.Canopies -> Low.Canopies      0.00000\n",
       "Midle2.Canopies -> OBIA              0.16968\n",
       "Midle2.Canopies -> Topography        0.00000\n",
       "Midle2.Canopies -> Richness          0.00993\n",
       "Low.Canopies -> OBIA                -0.10893\n",
       "Low.Canopies -> Topography           0.00000\n",
       "Low.Canopies -> Richness             0.12477\n",
       "OBIA -> Topography                   0.00000\n",
       "OBIA -> Richness                    -0.16835\n",
       "Topography -> Richness              -0.53075\n"
      ]
     },
     "metadata": {},
     "output_type": "display_data"
    }
   ],
   "source": [
    "# run PLSPM\n",
    "Q_pls = plspm(datapls, Q_inner, Q_outer, Q_modes, maxiter= 1000, boot.val = T, br = 1000, scheme = \"factor\", scaled = T)\n",
    "summary(Q_pls)\n",
    "# check again for the indicators of model quality. This time use bootstrap validation. With summary yo have all information"
   ]
  },
  {
   "cell_type": "code",
   "execution_count": null,
   "metadata": {
    "collapsed": true
   },
   "outputs": [],
   "source": [
    "# repeat the steps again until you are happy with your model"
   ]
  },
  {
   "cell_type": "code",
   "execution_count": 129,
   "metadata": {
    "collapsed": false
   },
   "outputs": [
    {
     "data": {
      "image/png": "[encoded data removed]",
      "text/plain": [
       "Plot with title \"Richness\""
      ]
     },
     "metadata": {
      "image/svg+xml": {
       "isolated": true
      }
     },
     "output_type": "display_data"
    }
   ],
   "source": [
    "# rescaling scores. Para que las VL tengan la misma escala que los indicadores\n",
    "Scores = rescale(Q_pls)\n",
    "\n",
    "op = par(mfrow = c(3, 3), mar = c(4, 5, 2, 0.5))\n",
    "# for each score\n",
    "for (j in 1:7) {\n",
    "  # histogram (with probability density)\n",
    "  hist(Scores[, j], freq = FALSE, xlab = \"\", border = \"#6A51A3\",\n",
    "       col = \"#DADAEB\", main = colnames(Scores)[j])\n",
    "  # add axes\n",
    "  axis(side = 1, col = \"black\", col.axis = \"black\")\n",
    "  axis(side = 2, col = \"black\", col.axis = \"black\")\n",
    "}\n",
    "par(op)"
   ]
  },
  {
   "cell_type": "code",
   "execution_count": 130,
   "metadata": {
    "collapsed": false
   },
   "outputs": [
    {
     "data": {
      "image/png": "[encoded data removed]",
      "text/plain": [
       "plot without title"
      ]
     },
     "metadata": {
      "image/svg+xml": {
       "isolated": true
      }
     },
     "output_type": "display_data"
    }
   ],
   "source": [
    "# Pairs plot\n",
    "panel.cor <- function(x, y, digits=2, prefix=\"\", cex.cor, ...)\n",
    "{\n",
    "  usr <- par(\"usr\"); on.exit(par(usr))\n",
    "  par(usr = c(0, 1, 0, 1))\n",
    "  r <- abs(cor(x, y))\n",
    "  txt <- format(c(r, 0.123456789), digits=digits)[1]\n",
    "  txt <- paste(prefix, txt, sep=\"\")\n",
    "  if(missing(cex.cor)) cex.cor <- 0.8/strwidth(txt)\n",
    "  text(0.5, 0.5, txt, cex = cex.cor * r)\n",
    "}\n",
    "pairs(Scores, pch = 16, col = \"blue\", panel=panel.smooth, upper.panel=panel.cor)"
   ]
  },
  {
   "cell_type": "code",
   "execution_count": null,
   "metadata": {
    "collapsed": true
   },
   "outputs": [],
   "source": [
    "### Predict Richness!\n",
    "# simulate the PLS-PM interactions. All variables are linear relationships. \n",
    "# See: Lopatin, J., Galleguillos, M., Fassnacht, F. E., Ceballos, A., & Hernández, J. (2015). Using a Multistructural Object-Based LiDAR Approach to Estimate Vascular Plant Richness in Mediterranean Forests With Complex Structure. IEEE Geoscience and Remote Sensing Letters, 12(5), 1008–1012.\n",
    "# Create the outer model"
   ]
  },
  {
   "cell_type": "code",
   "execution_count": 131,
   "metadata": {
    "collapsed": false
   },
   "outputs": [
    {
     "data": {
      "text/html": [
       "<table>\n",
       "<thead><tr><th></th><th scope=col>name</th><th scope=col>block</th><th scope=col>weight</th><th scope=col>loading</th><th scope=col>communality</th><th scope=col>redundancy</th></tr></thead>\n",
       "<tbody>\n",
       "\t<tr><th scope=row>1</th><td>Copas_A          </td><td>Hieght.Canopies  </td><td>0.37634990403535 </td><td>0.917820976444404</td><td>0.842395344801359</td><td>0                </td></tr>\n",
       "\t<tr><th scope=row>2</th><td>Cobertura_       </td><td>Hieght.Canopies  </td><td>0.35103953492534 </td><td>0.955351016824881</td><td>0.912695565348334</td><td>0                </td></tr>\n",
       "\t<tr><th scope=row>3</th><td>STD_A            </td><td>Hieght.Canopies  </td><td>0.392932520618612</td><td>0.812384239549093</td><td>0.659968152667759</td><td>0                </td></tr>\n",
       "\t<tr><th scope=row>4</th><td>Copas_B          </td><td>Midle1.Canopies  </td><td>0.503713171691664</td><td>0.970234273938974</td><td>0.941354546325888</td><td>0                </td></tr>\n",
       "\t<tr><th scope=row>5</th><td>Cobertura_B      </td><td>Midle1.Canopies  </td><td>0.525630471449437</td><td>0.972698966976506</td><td>0.946143280357161</td><td>0                </td></tr>\n",
       "\t<tr><th scope=row>6</th><td>Cobertura_C    </td><td>Midle2.Canopies</td><td>1              </td><td>1              </td><td>1              </td><td>0              </td></tr>\n",
       "\t<tr><th scope=row>7</th><td>Copas_D          </td><td>Low.Canopies     </td><td>0.60185531855791 </td><td>0.978149366725888</td><td>0.956776183626256</td><td>0                </td></tr>\n",
       "\t<tr><th scope=row>8</th><td>Cobertura_D      </td><td>Low.Canopies     </td><td>0.429908161193049</td><td>0.956705730243817</td><td>0.915285854281355</td><td>0                </td></tr>\n",
       "\t<tr><th scope=row>9</th><td>Copas_medianas   </td><td>OBIA             </td><td>0.330507433325953</td><td>0.932925548489642</td><td>0.8703500790247  </td><td>0.712839213617221</td></tr>\n",
       "\t<tr><th scope=row>10</th><td>Cobertua_medianas</td><td>OBIA             </td><td>0.337925386946606</td><td>0.9675955494434  </td><td>0.936241147302676</td><td>0.766805701847227</td></tr>\n",
       "\t<tr><th scope=row>11</th><td>NCobertura_bajas </td><td>OBIA             </td><td>0.382349514091484</td><td>0.953802888693482</td><td>0.909739950480032</td><td>0.745100536582994</td></tr>\n",
       "\t<tr><th scope=row>12</th><td>DTM_1_mean       </td><td>Topography       </td><td>0.741980798027876</td><td>0.864228113044474</td><td>0.746890231376413</td><td>0                </td></tr>\n",
       "\t<tr><th scope=row>13</th><td>Nslope_1m_std    </td><td>Topography       </td><td>0.517739485313178</td><td>0.692934082066627</td><td>0.48015764208952 </td><td>0                </td></tr>\n",
       "\t<tr><th scope=row>14</th><td>A_RICH           </td><td>Richness         </td><td>0.351741351753449</td><td>0.816923421172053</td><td>0.667363876059451</td><td>0.470987222683498</td></tr>\n",
       "\t<tr><th scope=row>15</th><td>AR_RICH          </td><td>Richness         </td><td>0.396245008231569</td><td>0.901938416045949</td><td>0.813492906339475</td><td>0.574116727581798</td></tr>\n",
       "\t<tr><th scope=row>16</th><td>H_RICH           </td><td>Richness         </td><td>0.413811873088714</td><td>0.85851972737194 </td><td>0.73705612228679 </td><td>0.520172020768471</td></tr>\n",
       "</tbody>\n",
       "</table>\n"
      ],
      "text/latex": [
       "\\begin{tabular}{r|llllll}\n",
       "  & name & block & weight & loading & communality & redundancy\\\\\n",
       "\\hline\n",
       "\t1 & Copas\\_A         & Hieght.Canopies   & 0.37634990403535  & 0.917820976444404 & 0.842395344801359 & 0                \\\\\n",
       "\t2 & Cobertura\\_      & Hieght.Canopies   & 0.35103953492534  & 0.955351016824881 & 0.912695565348334 & 0                \\\\\n",
       "\t3 & STD\\_A           & Hieght.Canopies   & 0.392932520618612 & 0.812384239549093 & 0.659968152667759 & 0                \\\\\n",
       "\t4 & Copas\\_B         & Midle1.Canopies   & 0.503713171691664 & 0.970234273938974 & 0.941354546325888 & 0                \\\\\n",
       "\t5 & Cobertura\\_B     & Midle1.Canopies   & 0.525630471449437 & 0.972698966976506 & 0.946143280357161 & 0                \\\\\n",
       "\t6 & Cobertura\\_C   & Midle2.Canopies & 1               & 1               & 1               & 0              \\\\\n",
       "\t7 & Copas\\_D         & Low.Canopies      & 0.60185531855791  & 0.978149366725888 & 0.956776183626256 & 0                \\\\\n",
       "\t8 & Cobertura\\_D     & Low.Canopies      & 0.429908161193049 & 0.956705730243817 & 0.915285854281355 & 0                \\\\\n",
       "\t9 & Copas\\_medianas  & OBIA              & 0.330507433325953 & 0.932925548489642 & 0.8703500790247   & 0.712839213617221\\\\\n",
       "\t10 & Cobertua\\_medianas & OBIA                & 0.337925386946606   & 0.9675955494434     & 0.936241147302676   & 0.766805701847227  \\\\\n",
       "\t11 & NCobertura\\_bajas & OBIA               & 0.382349514091484  & 0.953802888693482  & 0.909739950480032  & 0.745100536582994 \\\\\n",
       "\t12 & DTM\\_1\\_mean    & Topography        & 0.741980798027876 & 0.864228113044474 & 0.746890231376413 & 0                \\\\\n",
       "\t13 & Nslope\\_1m\\_std & Topography        & 0.517739485313178 & 0.692934082066627 & 0.48015764208952  & 0                \\\\\n",
       "\t14 & A\\_RICH          & Richness          & 0.351741351753449 & 0.816923421172053 & 0.667363876059451 & 0.470987222683498\\\\\n",
       "\t15 & AR\\_RICH         & Richness          & 0.396245008231569 & 0.901938416045949 & 0.813492906339475 & 0.574116727581798\\\\\n",
       "\t16 & H\\_RICH          & Richness          & 0.413811873088714 & 0.85851972737194  & 0.73705612228679  & 0.520172020768471\\\\\n",
       "\\end{tabular}\n"
      ],
      "text/plain": [
       "                name           block    weight   loading communality redundancy\n",
       "1            Copas_A Hieght.Canopies 0.3763499 0.9178210   0.8423953  0.0000000\n",
       "2         Cobertura_ Hieght.Canopies 0.3510395 0.9553510   0.9126956  0.0000000\n",
       "3              STD_A Hieght.Canopies 0.3929325 0.8123842   0.6599682  0.0000000\n",
       "4            Copas_B Midle1.Canopies 0.5037132 0.9702343   0.9413545  0.0000000\n",
       "5        Cobertura_B Midle1.Canopies 0.5256305 0.9726990   0.9461433  0.0000000\n",
       "6        Cobertura_C Midle2.Canopies 1.0000000 1.0000000   1.0000000  0.0000000\n",
       "7            Copas_D    Low.Canopies 0.6018553 0.9781494   0.9567762  0.0000000\n",
       "8        Cobertura_D    Low.Canopies 0.4299082 0.9567057   0.9152859  0.0000000\n",
       "9     Copas_medianas            OBIA 0.3305074 0.9329255   0.8703501  0.7128392\n",
       "10 Cobertua_medianas            OBIA 0.3379254 0.9675955   0.9362411  0.7668057\n",
       "11  NCobertura_bajas            OBIA 0.3823495 0.9538029   0.9097400  0.7451005\n",
       "12        DTM_1_mean      Topography 0.7419808 0.8642281   0.7468902  0.0000000\n",
       "13     Nslope_1m_std      Topography 0.5177395 0.6929341   0.4801576  0.0000000\n",
       "14            A_RICH        Richness 0.3517414 0.8169234   0.6673639  0.4709872\n",
       "15           AR_RICH        Richness 0.3962450 0.9019384   0.8134929  0.5741167\n",
       "16            H_RICH        Richness 0.4138119 0.8585197   0.7370561  0.5201720"
      ]
     },
     "metadata": {},
     "output_type": "display_data"
    }
   ],
   "source": [
    "Q_pls$outer\n"
   ]
  },
  {
   "cell_type": "code",
   "execution_count": 147,
   "metadata": {
    "collapsed": false
   },
   "outputs": [
    {
     "data": {
      "text/plain": [
       "   Min. 1st Qu.  Median    Mean 3rd Qu.    Max. \n",
       "  2.217   6.128   8.436   9.226  12.130  19.120 "
      ]
     },
     "metadata": {},
     "output_type": "display_data"
    }
   ],
   "source": [
    "O.Hieght.Canopies<-((datapls$Copas_A*Q_pls$outer$weight[1])+(datapls$Cobertura_*Q_pls$outer$weight[2])+(datapls$STD_A*Q_pls$outer$weight[3]))\n",
    "O.Midle1.Canopies<-((datapls$Copas_B*Q_pls$outer$weight[4])+(datapls$Cobertura_B*Q_pls$outer$weight[5]))\n",
    "O.Midle2.Canopies<-(datapls$Cobertura_C*Q_pls$outer$weight[6])\n",
    "O.Low.Canopies<-((datapls$Copas_D*Q_pls$outer$weight[7])+(datapls$Cobertura_D*Q_pls$outer$weight[8]))\n",
    "OBIA<-((datapls$Copas_medianas*Q_pls$outer$weight[9])+(datapls$Cobertua_medianas*Q_pls$outer$weight[10])+(datapls$NCobertura_bajas*Q_pls$outer$weight[11]))\n",
    "Topography<-((datapls$DTM_1_mean*Q_pls$outer$weight[12])+(datapls$Nslope_1m_std*Q_pls$outer$weight[13]))\n",
    "Rich<-((datapls$A_RICH*Q_pls$outer$weight[14])+(datapls$AR_RICH*Q_pls$outer$weight[15])+(datapls$H_RICH*Q_pls$outer$weight[16]))\n",
    "#n.Rich<-Rich*1.73\n",
    "summary(Rich)"
   ]
  },
  {
   "cell_type": "code",
   "execution_count": 148,
   "metadata": {
    "collapsed": false
   },
   "outputs": [],
   "source": [
    "# Normalize the data\n",
    "norm.HC <- (O.Hieght.Canopies-mean(O.Hieght.Canopies))/sd(O.Hieght.Canopies)\n",
    "norm.MC1 <-(O.Midle1.Canopies-mean(O.Midle1.Canopies))/sd(O.Midle1.Canopies)\n",
    "norm.MC2 <-(O.Midle2.Canopies-mean(O.Midle2.Canopies))/sd(O.Midle2.Canopies)\n",
    "norm.LC<-(O.Low.Canopies-mean(O.Low.Canopies))/sd(O.Low.Canopies)\n",
    "norm.Topo<-(Topography-mean(Topography))/sd(Topography)\n",
    "norm.OBIA<-(OBIA-mean(OBIA))/sd(OBIA)"
   ]
  },
  {
   "cell_type": "code",
   "execution_count": 150,
   "metadata": {
    "collapsed": false
   },
   "outputs": [
    {
     "data": {
      "text/html": [
       "0.789104199388178"
      ],
      "text/latex": [
       "0.789104199388178"
      ],
      "text/markdown": [
       "0.789104199388178"
      ],
      "text/plain": [
       "[1] 0.7891042"
      ]
     },
     "metadata": {},
     "output_type": "display_data"
    }
   ],
   "source": [
    "# Create the inner model\n",
    "OBIA2<-(norm.HC*Q_pls$path_coefs[5]+norm.MC1*Q_pls$path_coefs[12]+norm.MC2*Q_pls$path_coefs[19]+norm.LC*Q_pls$path_coefs[26])\n",
    "# predict Richness\n",
    "Observed <- Rich\n",
    "Predicted<- ((OBIA2*Q_pls$path_coefs[35]+norm.Topo*Q_pls$path_coefs[42])*sd(Observed)) + mean(Observed)\n",
    "\n",
    "cor(Predicted, Observed)"
   ]
  },
  {
   "cell_type": "code",
   "execution_count": 151,
   "metadata": {
    "collapsed": false
   },
   "outputs": [
    {
     "data": {
      "text/plain": [
       "   Min. 1st Qu.  Median    Mean 3rd Qu.    Max. \n",
       "  2.217   6.128   8.436   9.226  12.130  19.120 "
      ]
     },
     "metadata": {},
     "output_type": "display_data"
    },
    {
     "data": {
      "text/plain": [
       "   Min. 1st Qu.  Median    Mean 3rd Qu.    Max. \n",
       "  3.627   6.576   8.279   9.226  11.770  16.280 "
      ]
     },
     "metadata": {},
     "output_type": "display_data"
    }
   ],
   "source": [
    "summary(Observed)\n",
    "summary(Predicted)"
   ]
  },
  {
   "cell_type": "code",
   "execution_count": 158,
   "metadata": {
    "collapsed": false
   },
   "outputs": [
    {
     "data": {
      "image/png": "[encoded data removed]",
      "text/plain": [
       "Plot with title \"\""
      ]
     },
     "metadata": {
      "image/svg+xml": {
       "isolated": true
      }
     },
     "output_type": "display_data"
    }
   ],
   "source": [
    "par(mar=c(5, 5, 3, 3))\n",
    "Mytitle = \"\"\n",
    "MyXlab <- expression(paste(\"Observed richness (N° spp)\"))\n",
    "MyYlab <- expression(paste(\"Predicted richness (N° spp)\"))\n",
    "plot(Observed,Predicted,xlim=c(0,20), ylim=c(0,20),\n",
    "     xlab = MyXlab, ylab = MyYlab, pch=16, pty=\"s\", cex=1.5, cex.lab=1.5, cex.axis=1.5, main = Mytitle, las= 1)\n",
    "abline(0, 1, lty=2)\n",
    "\n",
    "R2 <- (cor(Predicted, Observed, method=\"pearson\"))^2\n",
    "RMSE <- sqrt(mean((Observed-Predicted)^2))\n",
    "\n",
    "lm1 = lm(Predicted ~ Observed-1)\n",
    "abline(lm1, lty=2, lwd=2)\n",
    "\n",
    "txt1 = paste(\"r^2 =\", round(R2,2))\n",
    "txt2 = paste(\"RMSE =\",round(RMSE,2), \"\")\n",
    "txt = paste(txt1, txt2, sep=\"\\n\") \n",
    "pusr = par()$usr\n",
    "text(x=pusr[1]+0.02*(pusr[2]-pusr[1]), y=pusr[4]-0.02*(pusr[4]-pusr[3]), txt, adj=c(0,1), cex=1.5)\n",
    "\n"
   ]
  },
  {
   "cell_type": "code",
   "execution_count": null,
   "metadata": {
    "collapsed": true
   },
   "outputs": [],
   "source": []
  },
  {
   "cell_type": "code",
   "execution_count": 169,
   "metadata": {
    "collapsed": false
   },
   "outputs": [
    {
     "data": {
      "image/png": "[encoded data removed]",
      "text/plain": [
       "plot without title"
      ]
     },
     "metadata": {
      "image/svg+xml": {
       "isolated": true
      }
     },
     "output_type": "display_data"
    }
   ],
   "source": [
    "library(pathdiagram)\n",
    "\n",
    "## open plot window\n",
    "wall(xlim = c(-0.1, 1), ylim = c(0, 1))\n",
    "\n",
    "LV1 = latent(\"Topography\", x=0.45, y=0.90, rx=0.12, ry=0.08, cex=1)\n",
    "text(0.62,0.66,\"-0.575*\", pos=3, cex=1, col=\"blue\")\n",
    "\n",
    "LV3 = latent(\"OBIA\", x=0.45, y=0.10, rx=0.12, ry=0.08,  cex= 1)\n",
    "text(0.62,0.3,\"-0.395*\", cex=1, col=\"blue\")\n",
    "\n",
    "LV3.1= latent(\"HC\", x=0.1, y=0.7, rx=0.1, ry=0.08, cex=1) \n",
    "LV3.2= latent(\"MHC\", x=0.1, y=0.5, rx=0.1, ry=0.08, cex=1) \n",
    "LV3.3= latent(\"MLC\", x=0.1, y=0.3, rx=0.1, ry=0.08, cex=1) \n",
    "LV3.4= latent(\"LC\",  x=0.1, y=0.1, rx=0.1, ry=0.08, cex=1) \n",
    "text(0.27,0.6,\"-0.125\", cex=1, pos=3, col=\"blue\")\n",
    "text(0.27,0.45,\"0.844*\", cex=1, pos=3, col=\"blue\")\n",
    "text(0.27,0.25,\"0.072\", cex=1, pos=3, col=\"blue\")\n",
    "text(0.27,0.1,\"-0.223*\", cex=1, pos=3, col=\"blue\")\n",
    "\n",
    "LV4 = latent(\"Richness\", x=0.75, y=0.5, rx=0.12, ry=0.08, cex=1)          \n",
    "\n",
    "draw(LV1)\n",
    "draw(LV3)\n",
    "draw(LV3.1)\n",
    "draw(LV3.2)\n",
    "draw(LV3.3)\n",
    "draw(LV3.4)\n",
    "draw(LV4)\n",
    "\n",
    "## Arrows of the inner model\n",
    "arrow(from =LV1 , to = LV4, start = \"east\", end = \"north\", lwd = 2, col = \"gray80\", length=0.2)\n",
    "arrow(from =LV3 , to = LV4, start = \"east\", end = \"south\", lwd = 2, col = \"gray80\", length=0.2)\n",
    "\n",
    "arrow(from =LV3.1 , to = LV3, start = \"east\", end = \"west\", lwd = 2, col = \"gray80\", length=0.2)\n",
    "arrow(from =LV3.2 , to = LV3, start = \"east\", end = \"west\", lwd = 2, col = \"gray80\", length=0.2)\n",
    "arrow(from =LV3.3 , to = LV3, start = \"east\", end = \"west\", lwd = 2, col = \"gray80\", length=0.2)\n",
    "arrow(from =LV3.4 , to = LV3, start = \"east\", end = \"west\", lwd = 2, col = \"gray80\", length=0.2)\n",
    "\n",
    "## TEXT R2 \n",
    "text(0.75,0.46,substitute(R^2 == \"0.660*\"), col=\"white\", cex=1)\n",
    "text(0.75,0.93, \"Godness-of-Fit = 0.820\", cex=1, col=\"red\")\n",
    "text(0.45,0.06,substitute(R^2 == \"0.819*\"), col=\"white\", cex=1)"
   ]
  }
 ],
 "metadata": {
  "kernelspec": {
   "display_name": "R",
   "language": "R",
   "name": "ir"
  },
  "language_info": {
   "codemirror_mode": "r",
   "file_extension": ".r",
   "mimetype": "text/x-r-source",
   "name": "R",
   "pygments_lexer": "r",
   "version": "3.3.0"
  }
 },
 "nbformat": 4,
 "nbformat_minor": 0
}
